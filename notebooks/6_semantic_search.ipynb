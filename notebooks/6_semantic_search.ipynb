{
 "cells": [
  {
   "cell_type": "markdown",
   "id": "ee5836fa",
   "metadata": {},
   "source": [
    "Конечно, для семантического поиска с эмбеддингами я мог бы использовать высокоуровневую библиотеку от langchain, но это упрощает задачу и не показаывает навыков и понимания."
   ]
  },
  {
   "cell_type": "code",
   "execution_count": 1,
   "id": "d3dbb5ea",
   "metadata": {},
   "outputs": [],
   "source": [
    "import os\n",
    "import sys\n",
    "import pandas as pd"
   ]
  },
  {
   "cell_type": "code",
   "execution_count": 2,
   "id": "1b510493",
   "metadata": {},
   "outputs": [],
   "source": [
    "module_path = os.path.abspath(os.path.join('..'))\n",
    "if module_path not in sys.path:\n",
    "    sys.path.append(module_path)"
   ]
  },
  {
   "cell_type": "code",
   "execution_count": 3,
   "id": "ef884ec4",
   "metadata": {},
   "outputs": [],
   "source": [
    "from src.search_embeddings.engine import EmbeddingSearchEngine"
   ]
  },
  {
   "cell_type": "code",
   "execution_count": 4,
   "id": "5392c0e9",
   "metadata": {},
   "outputs": [],
   "source": [
    "df = pd.read_parquet('../data/df_with_llmkeyphrases.parquet')"
   ]
  },
  {
   "cell_type": "code",
   "execution_count": 5,
   "id": "632bdc85",
   "metadata": {},
   "outputs": [
    {
     "name": "stdout",
     "output_type": "stream",
     "text": [
      "Loading sentence transformer model: ai-forever/FRIDA...\n",
      "Model ai-forever/FRIDA loaded successfully on device 'mps'.\n"
     ]
    }
   ],
   "source": [
    "search_engine = EmbeddingSearchEngine()"
   ]
  },
  {
   "cell_type": "code",
   "execution_count": 6,
   "id": "bff37e4b",
   "metadata": {},
   "outputs": [
    {
     "name": "stdout",
     "output_type": "stream",
     "text": [
      "Building embeddings from scratch...\n"
     ]
    },
    {
     "data": {
      "application/vnd.jupyter.widget-view+json": {
       "model_id": "1c291919a10447a5b624edb9d298c780",
       "version_major": 2,
       "version_minor": 0
      },
      "text/plain": [
       "Batches:   0%|          | 0/4 [00:00<?, ?it/s]"
      ]
     },
     "metadata": {},
     "output_type": "display_data"
    },
    {
     "name": "stdout",
     "output_type": "stream",
     "text": [
      "Embeddings built in 60.48 seconds.\n",
      "Saving embeddings to ../data/embeddings.npy...\n",
      "Building FAISS index...\n",
      "FAISS index built in 0.01 seconds. Contains 200 vectors.\n",
      "Saving FAISS index to ../data/faiss_index.bin...\n",
      "FAISS index saved successfully.\n"
     ]
    }
   ],
   "source": [
    "search_engine.build_index(df['abstract'])"
   ]
  },
  {
   "cell_type": "code",
   "execution_count": 9,
   "id": "0032ab0f",
   "metadata": {},
   "outputs": [
    {
     "name": "stdout",
     "output_type": "stream",
     "text": [
      "FAISS search completed in 1.1094 seconds.\n"
     ]
    }
   ],
   "source": [
    "query = \"комплексная модель диктора\"\n",
    "search_results = search_engine.search(query, top_n=5)"
   ]
  },
  {
   "cell_type": "code",
   "execution_count": 10,
   "id": "ea9fedf0",
   "metadata": {},
   "outputs": [
    {
     "name": "stdout",
     "output_type": "stream",
     "text": [
      "\n",
      "--- Результаты для запроса: 'комплексная модель диктора' ---\n",
      "\n",
      "Score: 0.7009000182151794\n",
      "(Индекс: 25) Текст: Статья посвящена разработке комплексной модели диктора в задаче текстонезависимой идентификации по голосу. Комплексная модель базируется на методе гауссовых смесей. Ее формируют по речевому сигналу, который предварительно сегментируется на фрагменты, соответствующие различным фонетическим классам звуков. Предложен способ структурирования моделей дикторов. Модели дикторов структурированы в виде дер...\n",
      "\n",
      "Score: 0.3091999888420105\n",
      "(Индекс: 190) Текст: Данная статья посвящена проблемам исследования и интегрального моделирования когнитивно-лингвистических представлений языковых структур и механизмов разрешения синтаксической неоднозначности в процессе создания лингвистических процессоров интеллектуальных систем обработки знаний и машинного перевода. Методика представления языковых структур и разрешения их неоднозначности построена на основе логик...\n",
      "\n",
      "Score: 0.3012000024318695\n",
      "(Индекс: 32) Текст: Цель статьи показать, как менялся процесс обучения русскому языку в Кабардино-Балкарии начиная с середины прошлого века и до наших дней, как шло движение в сторону поиска единых подходов к изучению русского языка в поликультурном регионе. Смена вариативных моделей обучения русскому языку в зависимости от его статуса в общеобразовательном учреждении, перманентная смена этого статуса, сопровождавшая...\n",
      "\n",
      "Score: 0.2969000041484833\n",
      "(Индекс: 117) Текст: В работе предлагаются методы реализации бесконтактного интерфейса управления виртуальными камерами в визуализируемых на компьютерах трехмерных сценах. Рассматриваемые решения основаны на использовании устройства Microsoft Kinect для идентификации управляющих поз оператора, при которых осуществляется движение, поворот и трансфокация управляемой виртуальной камеры. Подробно описывается подход к цифр...\n",
      "\n",
      "Score: 0.28839999437332153\n",
      "(Индекс: 196) Текст: Статья посвящена проблеме формирования языковой компетенции посредством развития универсальных учебных действий. Исходя из выделяемых составляющих языковой компетенции (лингвистической, лингвокультурологической, коммуникативно-речевой, ценностно-отношенческой) сформулирована необходимость опоры ее развития на речевой опыт детей. В данном процессе отмечена роль личных местоимений как часто употребл...\n"
     ]
    }
   ],
   "source": [
    "print(f\"\\n--- Результаты для запроса: '{query}' ---\")\n",
    "for idx, text, score in search_results:\n",
    "    print(f\"\\nScore: {score}\")\n",
    "    print(f\"(Индекс: {idx}) Текст: {text[:400]}...\")"
   ]
  }
 ],
 "metadata": {
  "kernelspec": {
   "display_name": "tech-task-dfs",
   "language": "python",
   "name": "python3"
  },
  "language_info": {
   "codemirror_mode": {
    "name": "ipython",
    "version": 3
   },
   "file_extension": ".py",
   "mimetype": "text/x-python",
   "name": "python",
   "nbconvert_exporter": "python",
   "pygments_lexer": "ipython3",
   "version": "3.11.13"
  }
 },
 "nbformat": 4,
 "nbformat_minor": 5
}
