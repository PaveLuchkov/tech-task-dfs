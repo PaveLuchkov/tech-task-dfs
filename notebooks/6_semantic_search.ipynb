{
 "cells": [
  {
   "cell_type": "markdown",
   "id": "ee5836fa",
   "metadata": {},
   "source": [
    "Конечно, для семантического поиска с эмбеддингами я мог бы использовать высокоуровневую библиотеку от langchain, но это упрощает задачу и не показаывает навыков и понимания."
   ]
  },
  {
   "cell_type": "code",
   "execution_count": 1,
   "id": "d3dbb5ea",
   "metadata": {},
   "outputs": [],
   "source": [
    "import os\n",
    "import sys\n",
    "import pandas as pd"
   ]
  },
  {
   "cell_type": "code",
   "execution_count": 2,
   "id": "1b510493",
   "metadata": {},
   "outputs": [],
   "source": [
    "module_path = os.path.abspath(os.path.join('..'))\n",
    "if module_path not in sys.path:\n",
    "    sys.path.append(module_path)"
   ]
  },
  {
   "cell_type": "code",
   "execution_count": 3,
   "id": "ef884ec4",
   "metadata": {},
   "outputs": [],
   "source": [
    "from src.search_embeddings.engine import EmbeddingSearchEngine"
   ]
  },
  {
   "cell_type": "code",
   "execution_count": 4,
   "id": "5392c0e9",
   "metadata": {},
   "outputs": [],
   "source": [
    "df_cleaned = pd.read_parquet('../data/df_cleaned.parquet')"
   ]
  },
  {
   "cell_type": "code",
   "execution_count": 5,
   "id": "632bdc85",
   "metadata": {},
   "outputs": [
    {
     "name": "stdout",
     "output_type": "stream",
     "text": [
      "Loading sentence transformer model: ai-forever/FRIDA...\n",
      "Model ai-forever/FRIDA loaded successfully on device 'mps'.\n"
     ]
    }
   ],
   "source": [
    "search_engine = EmbeddingSearchEngine()"
   ]
  },
  {
   "cell_type": "code",
   "execution_count": null,
   "id": "bff37e4b",
   "metadata": {},
   "outputs": [
    {
     "name": "stdout",
     "output_type": "stream",
     "text": [
      "Building embeddings from scratch...\n"
     ]
    },
    {
     "data": {
      "application/vnd.jupyter.widget-view+json": {
       "model_id": "c461deaa66844eb4ace9c01a99a42493",
       "version_major": 2,
       "version_minor": 0
      },
      "text/plain": [
       "Batches:   0%|          | 0/302 [00:00<?, ?it/s]"
      ]
     },
     "metadata": {},
     "output_type": "display_data"
    }
   ],
   "source": [
    "search_engine.build_index(df_cleaned['abstract'])"
   ]
  }
 ],
 "metadata": {
  "kernelspec": {
   "display_name": "tech-task-dfs",
   "language": "python",
   "name": "python3"
  },
  "language_info": {
   "codemirror_mode": {
    "name": "ipython",
    "version": 3
   },
   "file_extension": ".py",
   "mimetype": "text/x-python",
   "name": "python",
   "nbconvert_exporter": "python",
   "pygments_lexer": "ipython3",
   "version": "3.11.13"
  }
 },
 "nbformat": 4,
 "nbformat_minor": 5
}
