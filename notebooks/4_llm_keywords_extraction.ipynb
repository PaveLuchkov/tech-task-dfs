{
 "cells": [
  {
   "cell_type": "code",
   "execution_count": 7,
   "id": "8ac7a2cb",
   "metadata": {},
   "outputs": [],
   "source": [
    "import os\n",
    "import sys\n",
    "from dotenv import load_dotenv"
   ]
  },
  {
   "cell_type": "code",
   "execution_count": 8,
   "id": "f6f4e44c",
   "metadata": {},
   "outputs": [],
   "source": [
    "module_path = os.path.abspath(os.path.join('..'))\n",
    "if module_path not in sys.path:\n",
    "    sys.path.append(module_path)\n",
    "\n",
    "\n",
    "load_dotenv()\n",
    "\n",
    "if not os.environ.get(\"GEMINI_API_KEY\"):\n",
    "    print(\"❌ Ошибка: Установите переменную окружения GEMINI_API_KEY\")\n",
    "    raise RuntimeError(\"GEMINI_API_KEY environment variable is not set\")"
   ]
  },
  {
   "cell_type": "code",
   "execution_count": 9,
   "id": "3d93a35e",
   "metadata": {},
   "outputs": [
    {
     "name": "stdout",
     "output_type": "stream",
     "text": [
      "🔄 Загрузка данных...\n",
      "Загружено 19276 аннотаций\n",
      "Выбрано 200 аннотаций для обработки\n"
     ]
    }
   ],
   "source": [
    "from src.llm_keywords.load_and_sample_data import load_and_sample_data\n",
    "\n",
    "print(\"🔄 Загрузка данных...\")\n",
    "df = load_and_sample_data(\"../data/df_cleaned.parquet\", sample_size=200)"
   ]
  },
  {
   "cell_type": "code",
   "execution_count": 10,
   "id": "be3bbb90",
   "metadata": {},
   "outputs": [
    {
     "name": "stdout",
     "output_type": "stream",
     "text": [
      "⚡ Запуск параллельной обработки...\n",
      "Будет обработано 10 батчей по 20 аннотаций\n",
      "Максимум одновременных запросов: 10\n",
      "Максимум повторных попыток: 3\n",
      "\n",
      "🚀 Запуск параллельной обработки...\n",
      "Отправка батча 1 (аннотации 1-20)\n",
      "Отправка батча 2 (аннотации 21-40)\n",
      "Отправка батча 3 (аннотации 41-60)\n",
      "Отправка батча 4 (аннотации 61-80)\n",
      "Отправка батча 5 (аннотации 81-100)\n",
      "Отправка батча 6 (аннотации 101-120)\n",
      "Отправка батча 7 (аннотации 121-140)\n",
      "Отправка батча 8 (аннотации 141-160)\n",
      "Отправка батча 9 (аннотации 161-180)\n",
      "Отправка батча 10 (аннотации 181-200)\n",
      "✓ Батч 8 обработан успешно\n",
      "✓ Батч 2 обработан успешно\n",
      "✓ Батч 7 обработан успешно\n",
      "✓ Батч 10 обработан успешно\n",
      "✓ Батч 3 обработан успешно\n",
      "✓ Батч 9 обработан успешно\n",
      "✓ Батч 5 обработан успешно\n",
      "✓ Батч 1 обработан успешно\n",
      "✓ Батч 6 обработан успешно\n",
      "✓ Батч 4 обработан успешно\n",
      "\n",
      "⏱️  Обработка завершена за 20.9 секунд\n",
      "\n",
      "=== 📊 ДЕТАЛЬНАЯ СТАТИСТИКА ===\n",
      "✅ Успешно обработано: 10/10 батчей\n",
      "❌ Не удалось обработать: 0/10 батчей\n",
      "📈 Процент успеха: 100.0%\n"
     ]
    }
   ],
   "source": [
    "from src.llm_keywords.process_all_abstracts import process_all_abstracts_async\n",
    "\n",
    "print(\"⚡ Запуск параллельной обработки...\")\n",
    "df_processed = await process_all_abstracts_async(\n",
    "    df, \n",
    "    batch_size=20, \n",
    "    max_concurrent=10,\n",
    "    max_retries=3\n",
    ")"
   ]
  },
  {
   "cell_type": "code",
   "execution_count": 11,
   "id": "b3110b82",
   "metadata": {},
   "outputs": [
    {
     "name": "stdout",
     "output_type": "stream",
     "text": [
      "\n",
      "💾 Результаты сохранены в ../data/df_with_llmkeyphrases.parquet\n",
      "\n",
      "=== ПРИМЕРЫ РЕЗУЛЬТАТОВ ===\n",
      "\n",
      "--- Аннотация 68 ---\n",
      "Текст: На основе новых геологических материалов рассматривается вопрос о возникновении реки Невы, весьма необычной и исключительной по ряду показателей среди остальных рек Европейской части России. Предлагае...\n",
      "Ключевые фразы: ['река Нева', 'возникновение реки', 'ладожские воды', 'Финский залив', 'природные опасности']\n",
      "--------------------------------------------------\n",
      "\n",
      "--- Аннотация 12 ---\n",
      "Текст: Вводятся в научный оборот материалы позднего строительного горизонта поселения Двухозерное-1, расположенного на территории комплекса древних и средневековых памятников Ингальская долина. На площади ра...\n",
      "Ключевые фразы: ['поселение Двухозерное-1', 'Ингальская долина', 'энеолит', 'керамика', 'лыбаевский тип памятников']\n",
      "--------------------------------------------------\n",
      "\n",
      "--- Аннотация 37 ---\n",
      "Текст: В статье представлена специфика использования электронных образовательных ресурсов в деятельности социального проекта, популяризирующего русский язык. Проект «Современный русский» работает в Омском го...\n",
      "Ключевые фразы: ['электронные образовательные ресурсы', 'социальный проект', 'популяризация русского языка', 'практическая филология', 'лингвистическая помощь']\n",
      "--------------------------------------------------\n"
     ]
    }
   ],
   "source": [
    "from src.llm_keywords.on_result import save_results\n",
    "from src.llm_keywords.on_result import display_sample_results\n",
    "\n",
    "save_results(df_processed)\n",
    "display_sample_results(df_processed)"
   ]
  }
 ],
 "metadata": {
  "kernelspec": {
   "display_name": "tech-task-dfs",
   "language": "python",
   "name": "python3"
  },
  "language_info": {
   "codemirror_mode": {
    "name": "ipython",
    "version": 3
   },
   "file_extension": ".py",
   "mimetype": "text/x-python",
   "name": "python",
   "nbconvert_exporter": "python",
   "pygments_lexer": "ipython3",
   "version": "3.11.13"
  }
 },
 "nbformat": 4,
 "nbformat_minor": 5
}
