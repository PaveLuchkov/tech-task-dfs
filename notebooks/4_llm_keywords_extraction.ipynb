{
 "cells": [
  {
   "cell_type": "code",
   "execution_count": 2,
   "id": "8ac7a2cb",
   "metadata": {},
   "outputs": [],
   "source": [
    "import os\n",
    "import sys\n",
    "from dotenv import load_dotenv"
   ]
  },
  {
   "cell_type": "code",
   "execution_count": 3,
   "id": "f6f4e44c",
   "metadata": {},
   "outputs": [],
   "source": [
    "module_path = os.path.abspath(os.path.join('..'))\n",
    "if module_path not in sys.path:\n",
    "    sys.path.append(module_path)\n",
    "\n",
    "\n",
    "load_dotenv()\n",
    "\n",
    "if not os.environ.get(\"GEMINI_API_KEY\"):\n",
    "    print(\"❌ Ошибка: Установите переменную окружения GEMINI_API_KEY\")\n",
    "    raise RuntimeError(\"GEMINI_API_KEY environment variable is not set\")"
   ]
  },
  {
   "cell_type": "code",
   "execution_count": 4,
   "id": "3d93a35e",
   "metadata": {},
   "outputs": [
    {
     "name": "stdout",
     "output_type": "stream",
     "text": [
      "🔄 Загрузка данных...\n",
      "Загружено 19276 аннотаций\n",
      "Выбрано 200 аннотаций для обработки\n"
     ]
    }
   ],
   "source": [
    "from src.llm_keywords.load_and_sample_data import load_and_sample_data\n",
    "\n",
    "print(\"🔄 Загрузка данных...\")\n",
    "df = load_and_sample_data(\"../data/df_cleaned.parquet\", sample_size=200)"
   ]
  },
  {
   "cell_type": "code",
   "execution_count": 5,
   "id": "be3bbb90",
   "metadata": {},
   "outputs": [
    {
     "name": "stdout",
     "output_type": "stream",
     "text": [
      "⚡ Запуск параллельной обработки...\n",
      "Будет обработано 10 батчей по 20 аннотаций\n",
      "Максимум одновременных запросов: 10\n",
      "Максимум повторных попыток: 3\n",
      "\n",
      "🚀 Запуск параллельной обработки...\n",
      "Отправка батча 1 (аннотации 1-20)\n",
      "Отправка батча 2 (аннотации 21-40)\n",
      "Отправка батча 3 (аннотации 41-60)\n",
      "Отправка батча 4 (аннотации 61-80)\n",
      "Отправка батча 5 (аннотации 81-100)\n",
      "Отправка батча 6 (аннотации 101-120)\n",
      "Отправка батча 7 (аннотации 121-140)\n",
      "Отправка батча 8 (аннотации 141-160)\n",
      "Отправка батча 9 (аннотации 161-180)\n",
      "Отправка батча 10 (аннотации 181-200)\n",
      "⚠️  Ошибка в батче 9 (попытка 1): 503 UNAVAILABLE. {'error': {'code': 503, 'message': 'The model is overloaded. Please try again later.', 'status': 'UNAVAILABLE'}}\n",
      "   Повтор через 5 секунд...\n",
      "⚠️  Ошибка в батче 3 (попытка 1): 503 UNAVAILABLE. {'error': {'code': 503, 'message': 'The model is overloaded. Please try again later.', 'status': 'UNAVAILABLE'}}\n",
      "   Повтор через 5 секунд...\n",
      "✓ Батч 10 обработан успешно\n",
      "Отправка батча 9 (аннотации 161-180) - попытка 2\n",
      "✓ Батч 8 обработан успешно\n",
      "✓ Батч 2 обработан успешно\n",
      "Отправка батча 3 (аннотации 41-60) - попытка 2\n",
      "⚠️  Ошибка в батче 3 (попытка 2): 429 RESOURCE_EXHAUSTED. {'error': {'code': 429, 'message': 'You exceeded your current quota, please check your plan and billing details. For more information on this error, head to: https://ai.google.dev/gemini-api/docs/rate-limits.', 'status': 'RESOURCE_EXHAUSTED', 'details': [{'@type': 'type.googleapis.com/google.rpc.QuotaFailure', 'violations': [{'quotaMetric': 'generativelanguage.googleapis.com/generate_content_free_tier_requests', 'quotaId': 'GenerateRequestsPerMinutePerProjectPerModel-FreeTier', 'quotaDimensions': {'location': 'global', 'model': 'gemini-2.5-flash'}, 'quotaValue': '10'}]}, {'@type': 'type.googleapis.com/google.rpc.Help', 'links': [{'description': 'Learn more about Gemini API quotas', 'url': 'https://ai.google.dev/gemini-api/docs/rate-limits'}]}, {'@type': 'type.googleapis.com/google.rpc.RetryInfo', 'retryDelay': '9s'}]}}\n",
      "   Повтор через 10 секунд...\n",
      "✓ Батч 9 обработан успешно (попытка 2)\n",
      "✓ Батч 5 обработан успешно\n",
      "✓ Батч 7 обработан успешно\n",
      "✓ Батч 4 обработан успешно\n",
      "✓ Батч 1 обработан успешно\n",
      "Отправка батча 3 (аннотации 41-60) - попытка 3\n",
      "✓ Батч 6 обработан успешно\n",
      "⚠️  Ошибка в батче 3 (попытка 3): 429 RESOURCE_EXHAUSTED. {'error': {'code': 429, 'message': 'You exceeded your current quota, please check your plan and billing details. For more information on this error, head to: https://ai.google.dev/gemini-api/docs/rate-limits.', 'status': 'RESOURCE_EXHAUSTED', 'details': [{'@type': 'type.googleapis.com/google.rpc.QuotaFailure', 'violations': [{'quotaMetric': 'generativelanguage.googleapis.com/generate_content_free_tier_requests', 'quotaId': 'GenerateRequestsPerMinutePerProjectPerModel-FreeTier', 'quotaDimensions': {'location': 'global', 'model': 'gemini-2.5-flash'}, 'quotaValue': '10'}]}, {'@type': 'type.googleapis.com/google.rpc.Help', 'links': [{'description': 'Learn more about Gemini API quotas', 'url': 'https://ai.google.dev/gemini-api/docs/rate-limits'}]}, {'@type': 'type.googleapis.com/google.rpc.RetryInfo', 'retryDelay': '58s'}]}}\n",
      "   Повтор через 20 секунд...\n",
      "Отправка батча 3 (аннотации 41-60) - попытка 4\n",
      "✗ Батч 3 окончательно не обработан после 4 попыток: 429 RESOURCE_EXHAUSTED. {'error': {'code': 429, 'message': 'You exceeded your current quota, please check your plan and billing details. For more information on this error, head to: https://ai.google.dev/gemini-api/docs/rate-limits.', 'status': 'RESOURCE_EXHAUSTED', 'details': [{'@type': 'type.googleapis.com/google.rpc.QuotaFailure', 'violations': [{'quotaMetric': 'generativelanguage.googleapis.com/generate_content_free_tier_requests', 'quotaId': 'GenerateRequestsPerMinutePerProjectPerModel-FreeTier', 'quotaDimensions': {'location': 'global', 'model': 'gemini-2.5-flash'}, 'quotaValue': '10'}]}, {'@type': 'type.googleapis.com/google.rpc.Help', 'links': [{'description': 'Learn more about Gemini API quotas', 'url': 'https://ai.google.dev/gemini-api/docs/rate-limits'}]}, {'@type': 'type.googleapis.com/google.rpc.RetryInfo', 'retryDelay': '36s'}]}}\n",
      "\n",
      "⏱️  Обработка завершена за 45.3 секунд\n",
      "\n",
      "=== 📊 ДЕТАЛЬНАЯ СТАТИСТИКА ===\n",
      "✅ Успешно обработано: 9/10 батчей\n",
      "❌ Не удалось обработать: 1/10 батчей\n",
      "📈 Процент успеха: 90.0%\n"
     ]
    }
   ],
   "source": [
    "from src.llm_keywords.process_all_abstracts import process_all_abstracts_async\n",
    "\n",
    "print(\"⚡ Запуск параллельной обработки...\")\n",
    "df_processed = await process_all_abstracts_async(\n",
    "    df, \n",
    "    batch_size=20, \n",
    "    max_concurrent=10,\n",
    "    max_retries=3\n",
    ")"
   ]
  },
  {
   "cell_type": "code",
   "execution_count": 6,
   "id": "b3110b82",
   "metadata": {},
   "outputs": [
    {
     "name": "stdout",
     "output_type": "stream",
     "text": [
      "\n",
      "💾 Результаты сохранены в ../data/df_with_llmkeyphrases.parquet\n",
      "\n",
      "=== ПРИМЕРЫ РЕЗУЛЬТАТОВ ===\n",
      "\n",
      "--- Аннотация 23 ---\n",
      "Текст: Рассматриваются способы использования потенциала фразеологических единиц при создании юмористического высказывания посредством языковой игры. Материалом исследования является художественная проза врач...\n",
      "Ключевые фразы: ['фразеологические единицы', 'юмористическое высказывание', 'языковая игра', 'художественная проза', 'приемы использования фразеологизмов']\n",
      "--------------------------------------------------\n",
      "\n",
      "--- Аннотация 75 ---\n",
      "Текст: Данная статья посвящена анализу изучения положения языка в современных политических процессах. Рассматривается специфика исследования языка с позиций инструмента и объекта политической власти. В работ...\n",
      "Ключевые фразы: ['язык', 'политические процессы', 'политическая власть', 'языковая политика', 'политический дискурс']\n",
      "--------------------------------------------------\n",
      "\n",
      "--- Аннотация 132 ---\n",
      "Текст: Публикация представляет собой анализ существующих периодизаций развития культур на Североамериканском плато, охватывающих время от начала заселения до прихода европейцев. Предлагается путь решения про...\n",
      "Ключевые фразы: ['периодизация развития культур', 'Североамериканское плато', 'технологические традиции', 'критерии выделения периодов']\n",
      "--------------------------------------------------\n"
     ]
    }
   ],
   "source": [
    "from src.llm_keywords.on_result import save_results\n",
    "from src.llm_keywords.on_result import display_sample_results\n",
    "\n",
    "save_results(df_processed)\n",
    "display_sample_results(df_processed)"
   ]
  }
 ],
 "metadata": {
  "kernelspec": {
   "display_name": "tech-task-dfs",
   "language": "python",
   "name": "python3"
  },
  "language_info": {
   "codemirror_mode": {
    "name": "ipython",
    "version": 3
   },
   "file_extension": ".py",
   "mimetype": "text/x-python",
   "name": "python",
   "nbconvert_exporter": "python",
   "pygments_lexer": "ipython3",
   "version": "3.11.13"
  }
 },
 "nbformat": 4,
 "nbformat_minor": 5
}
