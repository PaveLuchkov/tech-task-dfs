{
 "cells": [
  {
   "cell_type": "code",
   "execution_count": 1,
   "id": "2db901a2",
   "metadata": {},
   "outputs": [],
   "source": [
    "import os\n",
    "import sys\n",
    "from dotenv import load_dotenv\n",
    "load_dotenv()\n",
    "\n",
    "import pandas as pd\n",
    "\n",
    "module_path = os.path.abspath(os.path.join('..'))\n",
    "if module_path not in sys.path:\n",
    "    sys.path.append(module_path)"
   ]
  },
  {
   "cell_type": "code",
   "execution_count": 2,
   "id": "f4db1cd5",
   "metadata": {},
   "outputs": [],
   "source": [
    "from src.search_embeddings.engine import EmbeddingSearchEngine"
   ]
  },
  {
   "cell_type": "code",
   "execution_count": 3,
   "id": "9f2ff824",
   "metadata": {},
   "outputs": [
    {
     "name": "stdout",
     "output_type": "stream",
     "text": [
      "Loading sentence transformer model: ai-forever/FRIDA...\n",
      "Model ai-forever/FRIDA loaded successfully on device 'mps'.\n"
     ]
    }
   ],
   "source": [
    "emb_search_engine = EmbeddingSearchEngine()"
   ]
  },
  {
   "cell_type": "code",
   "execution_count": 4,
   "id": "b8159173",
   "metadata": {},
   "outputs": [
    {
     "name": "stdout",
     "output_type": "stream",
     "text": [
      "Данные успешно загружены из ../data/df_with_llmkeyphrases.parquet. Количество записей: 200\n"
     ]
    }
   ],
   "source": [
    "from src.utils import load_dataset\n",
    "from src.search_tf_idf.search import TfidfSearch\n",
    "from src.classic_keywords.preprocessing import preprocess_text\n",
    "from src.classic_keywords.preprocessing import lemmatize_word \n",
    "from src.metrics.metrics_emb import evaluate_search_engine\n",
    "\n",
    "df = load_dataset(\"df_with_llmkeyphrases\")"
   ]
  },
  {
   "cell_type": "code",
   "execution_count": 5,
   "id": "15e663fa",
   "metadata": {},
   "outputs": [
    {
     "name": "stdout",
     "output_type": "stream",
     "text": [
      "Loading pre-built FAISS index from ../data/faiss_index.bin...\n",
      "FAISS index loaded. Contains 200 vectors.\n"
     ]
    }
   ],
   "source": [
    "emb_search_engine.build_index(df['abstract'])"
   ]
  },
  {
   "cell_type": "code",
   "execution_count": 6,
   "id": "c1531cd1",
   "metadata": {},
   "outputs": [
    {
     "name": "stdout",
     "output_type": "stream",
     "text": [
      "Building TF-IDF index...\n",
      "TF-IDF index built successfully.\n"
     ]
    }
   ],
   "source": [
    "tfidf_search_engine = TfidfSearch()\n",
    "\n",
    "tfidf_search_engine.build_index(\n",
    "    lemmatized_texts=df['lemmatized_abstract'],\n",
    "    original_texts=df['abstract']\n",
    ")"
   ]
  },
  {
   "cell_type": "code",
   "execution_count": 23,
   "id": "31722e22",
   "metadata": {},
   "outputs": [],
   "source": [
    "queries = [\n",
    "    \"Как эксперты оценивают надежность техники: использование логики и схем для уменьшения ошибок\",\n",
    "    \"Обряды рождения и свадьбы у народа коми в Сибири и их значение для семейной жизни\",\n",
    "    \"Каким образом западные переселенцы повлияли на экономику южной России в XIX веке\",\n",
    "    \"Развитие методов вероятностного анализа и их применение для расчета надежности систем\",\n",
    "    \"Применение вейвлет-технологий для распознавания степени повреждения нервов по сигналам\",\n",
    "    \"Как индекс тяжести Т-клеточной лимфомы помогает врачу оценивать активность болезни\",\n",
    "    \"Создание системы для контроля качества и автоматизации документов в университете\",\n",
    "    \"История кафедры вычислительной механики ТГУ и вклад академика Яненко\",\n",
    "    \"Математические модели операций по борьбе с пиратством и терроризмом на море\",\n",
    "    \"Как в немецком языке грамматические формы выражают нереальные и будущие действия\",\n",
    "    \"Почему Пушкина связывают с декабристами и какие мифы вокруг этого живут сегодня\",\n",
    "    \"Что показали находки энеолитической керамики лыбаевского типа в Зауралье\",\n",
    "    \"Обзор книги Аллы Николаевской о Сэмюэле Беккете: критический разбор\",\n",
    "    \"Какие изменения происходят в слизистой рта при почечной недостаточности у животных\",\n",
    "    \"Как автоматизировать создание персональных учебных материалов под разные стили обучения\"\n",
    "]\n"
   ]
  },
  {
   "cell_type": "code",
   "execution_count": 24,
   "id": "155c8334",
   "metadata": {},
   "outputs": [],
   "source": [
    "ground_truth = {\n",
    "    queries[0]: [0],\n",
    "    queries[1]: [1],\n",
    "    queries[2]: [2],\n",
    "    queries[3]: [3],\n",
    "    queries[4]: [4],\n",
    "    queries[5]: [5],\n",
    "    queries[6]: [6],\n",
    "    queries[7]: [7],\n",
    "    queries[8]: [8],\n",
    "    queries[9]: [9],\n",
    "    queries[10]: [10],\n",
    "    queries[11]: [11],\n",
    "    queries[12]: [12],\n",
    "    queries[13]: [13],\n",
    "    queries[14]: [14],\n",
    "}"
   ]
  },
  {
   "cell_type": "code",
   "execution_count": 25,
   "id": "6a576907",
   "metadata": {},
   "outputs": [
    {
     "name": "stdout",
     "output_type": "stream",
     "text": [
      "Оценка семантического поиска (Embeddings):\n",
      "FAISS search completed in 0.1290 seconds.\n",
      "FAISS search completed in 0.0649 seconds.\n",
      "FAISS search completed in 0.0693 seconds.\n",
      "FAISS search completed in 0.0939 seconds.\n",
      "FAISS search completed in 0.0608 seconds.\n",
      "FAISS search completed in 0.0588 seconds.\n",
      "FAISS search completed in 0.1643 seconds.\n",
      "FAISS search completed in 0.0585 seconds.\n",
      "FAISS search completed in 0.0657 seconds.\n",
      "FAISS search completed in 0.0586 seconds.\n",
      "FAISS search completed in 0.0585 seconds.\n",
      "FAISS search completed in 0.0569 seconds.\n",
      "FAISS search completed in 0.0565 seconds.\n",
      "FAISS search completed in 0.0585 seconds.\n",
      "FAISS search completed in 0.0663 seconds.\n",
      "{'MRR': 0.9333333333333333, 'Precision@5': 0.18666666666666668}\n",
      "\n",
      "Оценка лексического поиска (TF-IDF):\n",
      "{'MRR': 0.8522222222222222, 'Precision@5': 0.20000000000000004}\n"
     ]
    }
   ],
   "source": [
    "from src.classic_keywords.preprocessing import preprocess_text\n",
    "\n",
    "print(\"Оценка семантического поиска (Embeddings):\")\n",
    "embedding_metrics = evaluate_search_engine(emb_search_engine, queries, ground_truth)\n",
    "print(embedding_metrics)\n",
    "\n",
    "print(\"\\nОценка лексического поиска (TF-IDF):\")\n",
    "tfidf_metrics = evaluate_search_engine(\n",
    "    tfidf_search_engine, \n",
    "    queries, \n",
    "    ground_truth,\n",
    "    preprocessor_func=preprocess_text\n",
    ")\n",
    "print(tfidf_metrics)"
   ]
  }
 ],
 "metadata": {
  "kernelspec": {
   "display_name": "tech-task-dfs",
   "language": "python",
   "name": "python3"
  },
  "language_info": {
   "codemirror_mode": {
    "name": "ipython",
    "version": 3
   },
   "file_extension": ".py",
   "mimetype": "text/x-python",
   "name": "python",
   "nbconvert_exporter": "python",
   "pygments_lexer": "ipython3",
   "version": "3.11.13"
  }
 },
 "nbformat": 4,
 "nbformat_minor": 5
}
