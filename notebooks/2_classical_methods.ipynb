{
 "cells": [
  {
   "cell_type": "code",
   "execution_count": 4,
   "id": "3be69b1d",
   "metadata": {},
   "outputs": [],
   "source": [
    "import os\n",
    "import sys"
   ]
  },
  {
   "cell_type": "code",
   "execution_count": 5,
   "id": "f16445de",
   "metadata": {},
   "outputs": [],
   "source": [
    "module_path = os.path.abspath(os.path.join('..'))\n",
    "if module_path not in sys.path:\n",
    "    sys.path.append(module_path)"
   ]
  },
  {
   "cell_type": "code",
   "execution_count": null,
   "id": "31ab483f",
   "metadata": {},
   "outputs": [],
   "source": [
    "import pandas as pd\n",
    "import os\n",
    "\n",
    "output_dir = '../data'\n",
    "output_path = os.path.join(output_dir, 'df_cleaned.parquet')\n",
    "\n",
    "try:\n",
    "    df = pd.read_parquet(output_path)\n",
    "except FileNotFoundError:\n",
    "    print(\"Файл отсутствует. Проверьте этап запуска.\")"
   ]
  }
 ],
 "metadata": {
  "kernelspec": {
   "display_name": "tech-task-dfs",
   "language": "python",
   "name": "python3"
  },
  "language_info": {
   "codemirror_mode": {
    "name": "ipython",
    "version": 3
   },
   "file_extension": ".py",
   "mimetype": "text/x-python",
   "name": "python",
   "nbconvert_exporter": "python",
   "pygments_lexer": "ipython3",
   "version": "3.11.13"
  }
 },
 "nbformat": 4,
 "nbformat_minor": 5
}
