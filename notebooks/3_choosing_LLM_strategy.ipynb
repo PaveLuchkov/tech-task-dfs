{
 "cells": [
  {
   "cell_type": "code",
   "execution_count": 1,
   "id": "b73d9c9e",
   "metadata": {},
   "outputs": [],
   "source": [
    "import os\n",
    "import sys\n",
    "import pandas as pd\n",
    "from google import genai\n",
    "from tqdm.auto import tqdm\n",
    "from dotenv import load_dotenv"
   ]
  },
  {
   "cell_type": "code",
   "execution_count": 6,
   "id": "74b958ec",
   "metadata": {},
   "outputs": [],
   "source": [
    "module_path = os.path.abspath(os.path.join('..'))\n",
    "if module_path not in sys.path:\n",
    "    sys.path.append(module_path)\n",
    "\n",
    "load_dotenv()\n",
    "client = genai.Client()\n"
   ]
  },
  {
   "cell_type": "code",
   "execution_count": 3,
   "id": "eed3db16",
   "metadata": {},
   "outputs": [
    {
     "name": "stdout",
     "output_type": "stream",
     "text": [
      "Данные успешно загружены из ../data/df_cleaned.parquet. Количество записей: 19276\n"
     ]
    }
   ],
   "source": [
    "data_path = '../data/df_cleaned.parquet'\n",
    "try:\n",
    "    df = pd.read_parquet(data_path)\n",
    "    print(f\"Данные успешно загружены из {data_path}. Количество записей: {len(df)}\")\n",
    "except FileNotFoundError:\n",
    "    print(f\"Ошибка: Файл {data_path} не найден. Убедитесь, что вы запустили ноутбук с EDA и предобработкой.\")"
   ]
  },
  {
   "cell_type": "code",
   "execution_count": 4,
   "id": "98bedc5f",
   "metadata": {},
   "outputs": [],
   "source": [
    "abstract_list = df['abstract'].tolist()\n",
    "\n",
    "batch_size = 500\n",
    "total_tokens = 0"
   ]
  },
  {
   "cell_type": "code",
   "execution_count": 7,
   "id": "ea78a147",
   "metadata": {},
   "outputs": [
    {
     "data": {
      "application/vnd.jupyter.widget-view+json": {
       "model_id": "4131ae03184844baae6d0a97558e4037",
       "version_major": 2,
       "version_minor": 0
      },
      "text/plain": [
       "Подсчет токенов:   0%|          | 0/39 [00:00<?, ?it/s]"
      ]
     },
     "metadata": {},
     "output_type": "display_data"
    }
   ],
   "source": [
    "for i in tqdm(range(0, len(abstract_list), batch_size), desc=\"Подсчет токенов\"):\n",
    "    batch = abstract_list[i:i + batch_size]\n",
    "    response = client.models.count_tokens(\n",
    "    model=\"gemini-2.0-flash\", contents=batch\n",
    "    )\n",
    "    total_tokens += response.total_tokens\n",
    "    \n",
    "avg_tokens_per_abstract = total_tokens / len(df) if len(df) > 0 else 0"
   ]
  },
  {
   "cell_type": "code",
   "execution_count": 8,
   "id": "aaed3194",
   "metadata": {},
   "outputs": [
    {
     "name": "stdout",
     "output_type": "stream",
     "text": [
      "\n",
      "--- Результаты анализа токенов ---\n",
      "Общее количество токенов во всех аннотациях: 3,660,701\n",
      "Среднее количество токенов на одну аннотацию: 189.91\n"
     ]
    }
   ],
   "source": [
    "print(\"\\n--- Результаты анализа токенов ---\")\n",
    "print(f\"Общее количество токенов во всех аннотациях: {total_tokens:,}\")\n",
    "print(f\"Среднее количество токенов на одну аннотацию: {avg_tokens_per_abstract:.2f}\")"
   ]
  },
  {
   "cell_type": "markdown",
   "id": "55bc7c0d",
   "metadata": {},
   "source": [
    "Датасет содержит 19 000 аннотаций с общим объемом текста более 3.5 миллионов токенов. Это означает, что **прямая обработка всего корпуса с помощью LLM API является ресурсоемкой задачей, требующей оптимизации как по стоимости, так и по времени выполнения.**\n",
    "Для извлечения ключевых фраз с помощью LLM я рассмотрел две основные стратегии:\n",
    "> 1.  **Прямая генерация (Zero-Shot/Few-Shot Prompting):** Подача аннотации напрямую в LLM с инструкцией извлечь ключевые фразы.\n",
    "> 2.  **Двухэтапный пайплайн (Candidate Generation & Filtering):** Использование классического алгоритма (например, YAKE) для генерации большого списка фраз-кандидатов с последующей фильтрацией и ранжированием этого списка с помощью LLM.\"\n",
    "* Я выбрал модель семейства Gemini Flash 2.5 Lite от Google с доступом по API. Главные преимущества моделей Gemini: большое контекстное окно, одна из самых быстрых генераций, недорогостоящие и дополнительно поддерживают Structured Output, что позволит уменьшить риски генерации неверных JSON и количество токенов в системном промпте.\n",
    "\n",
    "Обработка 19 000 документов с помощью LLM API требует инженерного подхода к оптимизации, так как наивное решение \"один документ — один запрос\" неэффективно по трем ключевым параметрам:\n",
    "\n",
    " 1. Отправка 19 000 запросов упирается в ограничения API (15 RPM), что растягивает обработку на десятки часов.\n",
    " 2. Накладные расходы на каждый из 19 000 HTTP-запросов делают процесс недопустимо медленным.\n",
    " 3. При индивидуальных запросах системный промпт (≈100 токенов) отправляется с каждым документом. Это приводит к избыточной оплате **почти 1.9 миллиона токенов** только за повторение одних и тех же инструкций.\n",
    "\n",
    " Для решения этих проблем я реализую **батчинг**. Несколько документов (например, 20-30) и их кандидаты объединяются в один API-запрос со сложным структурированным промптом. Этот подход позволяет:\n",
    " *   **Радикально снизить стоимость** за счет однократной отправки инструкций на целый батч.\n",
    " *   **Уложиться в Rate Limits** благодаря сокращению количества запросов на порядки.\n",
    " *   **Ускорить общую обработку** за счет минимизации сетевых задержек.\n",
    "\n",
    " Для демонстрации работоспособности этого масштабируемого пайплайна, вычисления будут произведены на репрезентативной выборке из 200 аннотаций.\n",
    "\n"
   ]
  }
 ],
 "metadata": {
  "kernelspec": {
   "display_name": "tech-task-dfs",
   "language": "python",
   "name": "python3"
  },
  "language_info": {
   "codemirror_mode": {
    "name": "ipython",
    "version": 3
   },
   "file_extension": ".py",
   "mimetype": "text/x-python",
   "name": "python",
   "nbconvert_exporter": "python",
   "pygments_lexer": "ipython3",
   "version": "3.11.13"
  }
 },
 "nbformat": 4,
 "nbformat_minor": 5
}
