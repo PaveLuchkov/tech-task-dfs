{
 "cells": [
  {
   "cell_type": "markdown",
   "id": "688b92f3",
   "metadata": {},
   "source": [
    "# Раздел 1: Первичный анализ данных (EDA)"
   ]
  },
  {
   "cell_type": "code",
   "execution_count": 2,
   "id": "1feb059f",
   "metadata": {},
   "outputs": [],
   "source": [
    "#Импорты\n",
    "\n",
    "#Датасет\n",
    "from datasets import load_dataset"
   ]
  },
  {
   "cell_type": "code",
   "execution_count": 3,
   "id": "111cf871",
   "metadata": {},
   "outputs": [],
   "source": [
    "#Визуализация\n",
    "import matplotlib.pyplot as plt\n",
    "import seaborn as sns"
   ]
  },
  {
   "cell_type": "markdown",
   "id": "7651e9c5",
   "metadata": {},
   "source": [
    "---"
   ]
  },
  {
   "cell_type": "code",
   "execution_count": 4,
   "id": "62c0e928",
   "metadata": {},
   "outputs": [
    {
     "name": "stdout",
     "output_type": "stream",
     "text": [
      "DatasetDict({\n",
      "    train: Dataset({\n",
      "        features: ['abstract', 'keywords'],\n",
      "        num_rows: 20844\n",
      "    })\n",
      "    test: Dataset({\n",
      "        features: ['abstract', 'keywords'],\n",
      "        num_rows: 10004\n",
      "    })\n",
      "})\n"
     ]
    }
   ],
   "source": [
    "ds = load_dataset(\"aglazkova/keyphrase_extraction_russian\")\n",
    "print(ds)"
   ]
  },
  {
   "cell_type": "code",
   "execution_count": 5,
   "id": "b195cbba",
   "metadata": {},
   "outputs": [
    {
     "data": {
      "application/vnd.microsoft.datawrangler.viewer.v0+json": {
       "columns": [
        {
         "name": "index",
         "rawType": "int64",
         "type": "integer"
        },
        {
         "name": "abstract",
         "rawType": "object",
         "type": "string"
        },
        {
         "name": "keywords",
         "rawType": "object",
         "type": "string"
        }
       ],
       "ref": "5d29d79b-c913-4304-ad29-ede3d91c23a9",
       "rows": [
        [
         "0",
         "В статье рассматривается сущность и диагностика морально-психологического состояния личного состава. Отмечается, что морально-психологическое состояние исторически устойчивый термин. Возникновение его в начале 1990-х гг. подтвердилось в настоящее время во всех современных армиях, ему придается особая роль в возрастающем значении боевой готовности силовых структур Российской Федерации, способности их к защите национальных интересов и безопасности государства.",
         "личный состав, вооруженные силы российской федерации, воспитание военнослужащих, морально-психологическое состояние личного состава"
        ],
        [
         "1",
         "Проведен анализ костюмных комплексов могильников Киняминских I, II (XIII первая половина XIV в.), реконструированы накосные украшения из женских погребений.",
         "киняминский могильник, накосные украшения, костюмный комплекс"
        ],
        [
         "2",
         "Вводятся в научный оборот результаты палеокарпологического анализа керамики поселения черкаскульской культуры бронзового века Ольховка, расположенного в долине Исети. Обнаружение на черепках отпечатков семян пшеницы и ячменя практически первое прямое свидетельство знакомства черкаскульского населения Приисетья с земледелием, хотя вопрос о его роли в хозяйстве указанной группировки остается открытым.",
         "черкаскульское население, керамика, палеокарпологический анализ, поселение ольховка"
        ],
        [
         "3",
         "Статья посвящена одонтологической характеристике населения ямной культурно-исторической общности. На основании одонтологических данных проанализирован состав ямного населения Калмыкии, Астраханской области и Украины. Сделан вывод о морфологической неоднородности ямников и ведущей роли в формировании комплекса их одонтологических характеристик грацильного населения южного происхождения.",
         "одонтология, эпоха бронзы, ямная культура, морфологический тип, популяция"
        ],
        [
         "4",
         "В статье рассматривается содержание писем и рассказов фронтовиков, оказывавшее разноплановое влияние на восприятие горожанами поволжских губерний действительности в годы Первой мировой войны. Отмечено его содействие развитию у населения чувства патриотизма. Также на конкретных примерах показано влияние писем из действующей армии и разговоров фронтовиков на формирование у горожан Поволжья негативного отношения к власти и представителям еврейского народа. Раскрывается деятельность правительственных органов по недопущению негативного воздействия военной корреспонденции на сознание мирных жителей.",
         "первая мировая война, поволжье, городское население, мировоззрение, антиправительственные настроения"
        ]
       ],
       "shape": {
        "columns": 2,
        "rows": 5
       }
      },
      "text/html": [
       "<div>\n",
       "<style scoped>\n",
       "    .dataframe tbody tr th:only-of-type {\n",
       "        vertical-align: middle;\n",
       "    }\n",
       "\n",
       "    .dataframe tbody tr th {\n",
       "        vertical-align: top;\n",
       "    }\n",
       "\n",
       "    .dataframe thead th {\n",
       "        text-align: right;\n",
       "    }\n",
       "</style>\n",
       "<table border=\"1\" class=\"dataframe\">\n",
       "  <thead>\n",
       "    <tr style=\"text-align: right;\">\n",
       "      <th></th>\n",
       "      <th>abstract</th>\n",
       "      <th>keywords</th>\n",
       "    </tr>\n",
       "  </thead>\n",
       "  <tbody>\n",
       "    <tr>\n",
       "      <th>0</th>\n",
       "      <td>В статье рассматривается сущность и диагностик...</td>\n",
       "      <td>личный состав, вооруженные силы российской фед...</td>\n",
       "    </tr>\n",
       "    <tr>\n",
       "      <th>1</th>\n",
       "      <td>Проведен анализ костюмных комплексов могильник...</td>\n",
       "      <td>киняминский могильник, накосные украшения, кос...</td>\n",
       "    </tr>\n",
       "    <tr>\n",
       "      <th>2</th>\n",
       "      <td>Вводятся в научный оборот результаты палеокарп...</td>\n",
       "      <td>черкаскульское население, керамика, палеокарпо...</td>\n",
       "    </tr>\n",
       "    <tr>\n",
       "      <th>3</th>\n",
       "      <td>Статья посвящена одонтологической характеристи...</td>\n",
       "      <td>одонтология, эпоха бронзы, ямная культура, мор...</td>\n",
       "    </tr>\n",
       "    <tr>\n",
       "      <th>4</th>\n",
       "      <td>В статье рассматривается содержание писем и ра...</td>\n",
       "      <td>первая мировая война, поволжье, городское насе...</td>\n",
       "    </tr>\n",
       "  </tbody>\n",
       "</table>\n",
       "</div>"
      ],
      "text/plain": [
       "                                            abstract  \\\n",
       "0  В статье рассматривается сущность и диагностик...   \n",
       "1  Проведен анализ костюмных комплексов могильник...   \n",
       "2  Вводятся в научный оборот результаты палеокарп...   \n",
       "3  Статья посвящена одонтологической характеристи...   \n",
       "4  В статье рассматривается содержание писем и ра...   \n",
       "\n",
       "                                            keywords  \n",
       "0  личный состав, вооруженные силы российской фед...  \n",
       "1  киняминский могильник, накосные украшения, кос...  \n",
       "2  черкаскульское население, керамика, палеокарпо...  \n",
       "3  одонтология, эпоха бронзы, ямная культура, мор...  \n",
       "4  первая мировая война, поволжье, городское насе...  "
      ]
     },
     "metadata": {},
     "output_type": "display_data"
    },
    {
     "name": "stdout",
     "output_type": "stream",
     "text": [
      "<class 'pandas.core.frame.DataFrame'>\n",
      "RangeIndex: 20844 entries, 0 to 20843\n",
      "Data columns (total 2 columns):\n",
      " #   Column    Non-Null Count  Dtype \n",
      "---  ------    --------------  ----- \n",
      " 0   abstract  20844 non-null  object\n",
      " 1   keywords  20844 non-null  object\n",
      "dtypes: object(2)\n",
      "memory usage: 325.8+ KB\n"
     ]
    }
   ],
   "source": [
    "df = ds['train'].to_pandas()\n",
    "display(df.head())\n",
    "df.info()"
   ]
  },
  {
   "cell_type": "markdown",
   "id": "363420e8",
   "metadata": {},
   "source": [
    "Данные преобразованы в pandas DataFrame. Первичный анализ с помощью .info() показывает, что в датасете 20844 записей. Типы данных корректны. Столбцы abstract и keywords полностью заполнены, пропущенные значения отсутствуют.\""
   ]
  },
  {
   "cell_type": "markdown",
   "id": "ead0d247",
   "metadata": {},
   "source": [
    "---"
   ]
  },
  {
   "cell_type": "code",
   "execution_count": 6,
   "id": "b4bb7678",
   "metadata": {},
   "outputs": [
    {
     "name": "stdout",
     "output_type": "stream",
     "text": [
      "Обнаружено дублирующихся аннотаций: 12\n"
     ]
    }
   ],
   "source": [
    "duplicate_count = df.duplicated(subset=['abstract']).sum()\n",
    "print(f\"Обнаружено дублирующихся аннотаций: {duplicate_count}\")"
   ]
  },
  {
   "cell_type": "markdown",
   "id": "a03e939e",
   "metadata": {},
   "source": [
    "Количество дупликатов составляет всего 12 единиц, удалим их"
   ]
  },
  {
   "cell_type": "code",
   "execution_count": 7,
   "id": "f3627896",
   "metadata": {},
   "outputs": [
    {
     "name": "stdout",
     "output_type": "stream",
     "text": [
      "Дубликаты удалены. Новый размер датасета: 20832\n"
     ]
    }
   ],
   "source": [
    "df.drop_duplicates(subset=['abstract'], inplace=True, keep='first')\n",
    "df.reset_index(drop=True, inplace=True)\n",
    "print(f\"Дубликаты удалены. Новый размер датасета: {len(df)}\")"
   ]
  },
  {
   "cell_type": "markdown",
   "id": "d9984fb1",
   "metadata": {},
   "source": [
    "---"
   ]
  },
  {
   "cell_type": "code",
   "execution_count": 8,
   "id": "7130cc89",
   "metadata": {},
   "outputs": [
    {
     "name": "stdout",
     "output_type": "stream",
     "text": [
      "Описательная статистика по длине аннотаций:\n"
     ]
    },
    {
     "data": {
      "application/vnd.microsoft.datawrangler.viewer.v0+json": {
       "columns": [
        {
         "name": "index",
         "rawType": "object",
         "type": "string"
        },
        {
         "name": "char_length",
         "rawType": "float64",
         "type": "float"
        },
        {
         "name": "word_count",
         "rawType": "float64",
         "type": "float"
        }
       ],
       "ref": "16e7ecb4-34dd-4b6e-a06f-eeb0eb433ed3",
       "rows": [
        [
         "count",
         "20832.0",
         "20832.0"
        ],
        [
         "mean",
         "731.4330837173579",
         "85.49745583717358"
        ],
        [
         "std",
         "548.1988049554926",
         "66.80840559533034"
        ],
        [
         "min",
         "23.0",
         "2.0"
        ],
        [
         "25%",
         "353.0",
         "40.0"
        ],
        [
         "50%",
         "544.0",
         "62.0"
        ],
        [
         "75%",
         "939.0",
         "109.0"
        ],
        [
         "max",
         "5548.0",
         "771.0"
        ]
       ],
       "shape": {
        "columns": 2,
        "rows": 8
       }
      },
      "text/html": [
       "<div>\n",
       "<style scoped>\n",
       "    .dataframe tbody tr th:only-of-type {\n",
       "        vertical-align: middle;\n",
       "    }\n",
       "\n",
       "    .dataframe tbody tr th {\n",
       "        vertical-align: top;\n",
       "    }\n",
       "\n",
       "    .dataframe thead th {\n",
       "        text-align: right;\n",
       "    }\n",
       "</style>\n",
       "<table border=\"1\" class=\"dataframe\">\n",
       "  <thead>\n",
       "    <tr style=\"text-align: right;\">\n",
       "      <th></th>\n",
       "      <th>char_length</th>\n",
       "      <th>word_count</th>\n",
       "    </tr>\n",
       "  </thead>\n",
       "  <tbody>\n",
       "    <tr>\n",
       "      <th>count</th>\n",
       "      <td>20832.000000</td>\n",
       "      <td>20832.000000</td>\n",
       "    </tr>\n",
       "    <tr>\n",
       "      <th>mean</th>\n",
       "      <td>731.433084</td>\n",
       "      <td>85.497456</td>\n",
       "    </tr>\n",
       "    <tr>\n",
       "      <th>std</th>\n",
       "      <td>548.198805</td>\n",
       "      <td>66.808406</td>\n",
       "    </tr>\n",
       "    <tr>\n",
       "      <th>min</th>\n",
       "      <td>23.000000</td>\n",
       "      <td>2.000000</td>\n",
       "    </tr>\n",
       "    <tr>\n",
       "      <th>25%</th>\n",
       "      <td>353.000000</td>\n",
       "      <td>40.000000</td>\n",
       "    </tr>\n",
       "    <tr>\n",
       "      <th>50%</th>\n",
       "      <td>544.000000</td>\n",
       "      <td>62.000000</td>\n",
       "    </tr>\n",
       "    <tr>\n",
       "      <th>75%</th>\n",
       "      <td>939.000000</td>\n",
       "      <td>109.000000</td>\n",
       "    </tr>\n",
       "    <tr>\n",
       "      <th>max</th>\n",
       "      <td>5548.000000</td>\n",
       "      <td>771.000000</td>\n",
       "    </tr>\n",
       "  </tbody>\n",
       "</table>\n",
       "</div>"
      ],
      "text/plain": [
       "        char_length    word_count\n",
       "count  20832.000000  20832.000000\n",
       "mean     731.433084     85.497456\n",
       "std      548.198805     66.808406\n",
       "min       23.000000      2.000000\n",
       "25%      353.000000     40.000000\n",
       "50%      544.000000     62.000000\n",
       "75%      939.000000    109.000000\n",
       "max     5548.000000    771.000000"
      ]
     },
     "metadata": {},
     "output_type": "display_data"
    }
   ],
   "source": [
    "df['char_length'] = df['abstract'].str.len()\n",
    "df['word_count'] = df['abstract'].apply(lambda x: len(x.split()))\n",
    "\n",
    "print(\"Описательная статистика по длине аннотаций:\")\n",
    "display(df[['char_length', 'word_count']].describe())"
   ]
  },
  {
   "cell_type": "code",
   "execution_count": 9,
   "id": "60f65ebe",
   "metadata": {},
   "outputs": [
    {
     "data": {
      "image/png": "[encoded data removed]",
      "text/plain": [
       "<Figure size 1800x700 with 2 Axes>"
      ]
     },
     "metadata": {},
     "output_type": "display_data"
    }
   ],
   "source": [
    "sns.set_theme(style=\"whitegrid\")\n",
    "\n",
    "fig, axes = plt.subplots(1, 2, figsize=(18, 7))\n",
    "\n",
    "sns.histplot(df['word_count'], bins=40, ax=axes[0], color='skyblue', kde=True)\n",
    "axes[0].set_title('Распределение длины аннотаций в словах', fontsize=14)\n",
    "axes[0].set_xlabel('Количество слов')\n",
    "axes[0].set_ylabel('Частота')\n",
    "\n",
    "sns.histplot(df['char_length'], bins=40, ax=axes[1], color='salmon', kde=True)\n",
    "axes[1].set_title('Распределение длины аннотаций в символах', fontsize=14)\n",
    "axes[1].set_xlabel('Количество символов')\n",
    "axes[1].set_ylabel('Частота')\n",
    "\n",
    "plt.suptitle('Анализ распределения длины аннотаций', fontsize=16, y=1.02)\n",
    "plt.tight_layout()\n",
    "plt.show()"
   ]
  },
  {
   "cell_type": "markdown",
   "id": "7ca627f6",
   "metadata": {},
   "source": [
    "* Важные выводы по графикам и статистикам: существуют аномальные аннотауии, требующие дополнительного рассмотрения. В частности существуют аннотации с всего 2 словами, что вероятно является выбросом, рассмотрим другие аннотации где количество слов не превышает 5 ед."
   ]
  },
  {
   "cell_type": "markdown",
   "id": "83d4e311",
   "metadata": {},
   "source": [
    "# Раздел 2: Анализ аномалий и очистка данных."
   ]
  },
  {
   "cell_type": "code",
   "execution_count": 10,
   "id": "d8fa3892",
   "metadata": {},
   "outputs": [
    {
     "name": "stdout",
     "output_type": "stream",
     "text": [
      "Найдено 5 аннотаций с 5 или менее словами.\n"
     ]
    },
    {
     "data": {
      "application/vnd.microsoft.datawrangler.viewer.v0+json": {
       "columns": [
        {
         "name": "index",
         "rawType": "int64",
         "type": "integer"
        },
        {
         "name": "abstract",
         "rawType": "object",
         "type": "string"
        },
        {
         "name": "keywords",
         "rawType": "object",
         "type": "string"
        },
        {
         "name": "char_length",
         "rawType": "int64",
         "type": "integer"
        },
        {
         "name": "word_count",
         "rawType": "int64",
         "type": "integer"
        }
       ],
       "ref": "85490e25-8f93-4f02-80bc-7d9c89a14026",
       "rows": [
        [
         "8329",
         "Вработесделанапопыткаразобратьсявособенностяхустройстваорфоэпическойсоставляющейтелевизионнойречиновейшеговремени. Впоискахрешенияэтойпроблемыавторобращаетсяклингвистическойлитературеижурналистскимтекстамианализирует, чтоотличаеторфоэпиютелевизионныхмедиапостсоветскойэпохиивчемпричинанаблюдаемыхперемен.",
         "телевизионная речь, орфоэпия, кодифицированная норма, некодифицированные (компрессированные/разговорные) формы",
         "304",
         "3"
        ],
        [
         "11646",
         "Рассматривается  уравне",
         "$c$-обобщенная функция, $c$-обобщенное число, слабое равенство, неосцилляция",
         "23",
         "2"
        ],
        [
         "11666",
         "Доказано, что линейная управляемая систе",
         "линейная управляемая система, равномерная полная управляемость, система в\\xa0форме хессенберга, глобальное управление асимптотическими инвариантами",
         "40",
         "5"
        ],
        [
         "11849",
         "Рассматривается линейная нестационарная управляемая сист",
         "линейная управляемая система с периодическими коэффициентами, равномерная полная управляемость, равномерная глобальная достижимость",
         "56",
         "5"
        ],
        [
         "13012",
         "Предметноориентированные языки (",
         "предметноориентированный язык, синтаксический анализатор, компилятор",
         "32",
         "3"
        ]
       ],
       "shape": {
        "columns": 4,
        "rows": 5
       }
      },
      "text/html": [
       "<div>\n",
       "<style scoped>\n",
       "    .dataframe tbody tr th:only-of-type {\n",
       "        vertical-align: middle;\n",
       "    }\n",
       "\n",
       "    .dataframe tbody tr th {\n",
       "        vertical-align: top;\n",
       "    }\n",
       "\n",
       "    .dataframe thead th {\n",
       "        text-align: right;\n",
       "    }\n",
       "</style>\n",
       "<table border=\"1\" class=\"dataframe\">\n",
       "  <thead>\n",
       "    <tr style=\"text-align: right;\">\n",
       "      <th></th>\n",
       "      <th>abstract</th>\n",
       "      <th>keywords</th>\n",
       "      <th>char_length</th>\n",
       "      <th>word_count</th>\n",
       "    </tr>\n",
       "  </thead>\n",
       "  <tbody>\n",
       "    <tr>\n",
       "      <th>8329</th>\n",
       "      <td>Вработесделанапопыткаразобратьсявособенностяху...</td>\n",
       "      <td>телевизионная речь, орфоэпия, кодифицированная...</td>\n",
       "      <td>304</td>\n",
       "      <td>3</td>\n",
       "    </tr>\n",
       "    <tr>\n",
       "      <th>11646</th>\n",
       "      <td>Рассматривается  уравне</td>\n",
       "      <td>$c$-обобщенная функция, $c$-обобщенное число, ...</td>\n",
       "      <td>23</td>\n",
       "      <td>2</td>\n",
       "    </tr>\n",
       "    <tr>\n",
       "      <th>11666</th>\n",
       "      <td>Доказано, что линейная управляемая систе</td>\n",
       "      <td>линейная управляемая система, равномерная полн...</td>\n",
       "      <td>40</td>\n",
       "      <td>5</td>\n",
       "    </tr>\n",
       "    <tr>\n",
       "      <th>11849</th>\n",
       "      <td>Рассматривается линейная нестационарная управл...</td>\n",
       "      <td>линейная управляемая система с периодическими ...</td>\n",
       "      <td>56</td>\n",
       "      <td>5</td>\n",
       "    </tr>\n",
       "    <tr>\n",
       "      <th>13012</th>\n",
       "      <td>Предметноориентированные языки (</td>\n",
       "      <td>предметноориентированный язык, синтаксический ...</td>\n",
       "      <td>32</td>\n",
       "      <td>3</td>\n",
       "    </tr>\n",
       "  </tbody>\n",
       "</table>\n",
       "</div>"
      ],
      "text/plain": [
       "                                                abstract  \\\n",
       "8329   Вработесделанапопыткаразобратьсявособенностяху...   \n",
       "11646                            Рассматривается  уравне   \n",
       "11666           Доказано, что линейная управляемая систе   \n",
       "11849  Рассматривается линейная нестационарная управл...   \n",
       "13012                   Предметноориентированные языки (   \n",
       "\n",
       "                                                keywords  char_length  \\\n",
       "8329   телевизионная речь, орфоэпия, кодифицированная...          304   \n",
       "11646  $c$-обобщенная функция, $c$-обобщенное число, ...           23   \n",
       "11666  линейная управляемая система, равномерная полн...           40   \n",
       "11849  линейная управляемая система с периодическими ...           56   \n",
       "13012  предметноориентированный язык, синтаксический ...           32   \n",
       "\n",
       "       word_count  \n",
       "8329            3  \n",
       "11646           2  \n",
       "11666           5  \n",
       "11849           5  \n",
       "13012           3  "
      ]
     },
     "metadata": {},
     "output_type": "display_data"
    }
   ],
   "source": [
    "short_abstracts = df[df['word_count'] <= 5]\n",
    "print(f\"Найдено {len(short_abstracts)} аннотаций с 5 или менее словами.\")\n",
    "display(short_abstracts)"
   ]
  },
  {
   "cell_type": "markdown",
   "id": "47a2968a",
   "metadata": {},
   "source": [
    "*   \"Проведенный анализ выявил несколько классов аномалий в данных, которые критически повлияют на качество моделей:\n",
    "    1.  **Тексты без пробелов (слипшиеся):** Пример ID 8329. Приводят к полной неработоспособности статистических методов.\n",
    "    2.  **Оборванные тексты:** Примеры ID 11666, 11849. Содержат неполный контекст, что приведет к нерелевантному извлечению ключевых фраз.\n",
    "    3.  **Тексты с артефактами парсинга/кодировки:** Пример ID 11646. Зашумляют данные и могут привести к извлечению бессмысленных n-грамм.\n",
    "\n",
    "Для борьбы с короткими, оборванными и мусорными текстами вводится фильтрация по минимальной длине.\n",
    "Для обнаружения текстов без пробелов вводится проверка на среднюю длину слова.\n",
    "После применения этих правил очистки датасет будет перепроверен, а статистики — пересчитаны, чтобы убедиться в чистоте данных перед подачей в модели."
   ]
  },
  {
   "cell_type": "code",
   "execution_count": 11,
   "id": "9f8661f5",
   "metadata": {},
   "outputs": [],
   "source": [
    "MIN_WORD_COUNT = 25\n",
    "MAX_AVG_WORD_LEN = 15"
   ]
  },
  {
   "cell_type": "code",
   "execution_count": 12,
   "id": "567ce28f",
   "metadata": {},
   "outputs": [],
   "source": [
    "def is_valid_abstract(text: str) -> bool:\n",
    "    \"\"\"\n",
    "    Проверяет, является ли аннотация валидной на основе заданных критериев.\n",
    "    \"\"\"\n",
    "    if not isinstance(text, str) or not text.strip():\n",
    "        return False\n",
    "\n",
    "    words = text.split()\n",
    "    word_count = len(words)\n",
    "\n",
    "    if word_count < MIN_WORD_COUNT:\n",
    "        return False\n",
    "\n",
    "    total_chars_in_words = len(\"\".join(words))\n",
    "        \n",
    "    avg_word_length = total_chars_in_words / word_count\n",
    "    \n",
    "    if avg_word_length > MAX_AVG_WORD_LEN:\n",
    "        return False\n",
    "\n",
    "    return True"
   ]
  },
  {
   "cell_type": "code",
   "execution_count": 13,
   "id": "5a12a19a",
   "metadata": {},
   "outputs": [
    {
     "name": "stdout",
     "output_type": "stream",
     "text": [
      "Количество аннотаций после фильтрации: 19276\n",
      "Количество удаленных аннотаций: 1556\n"
     ]
    }
   ],
   "source": [
    "mask = df['abstract'].apply(is_valid_abstract)\n",
    "df_cleaned = df[mask].copy()\n",
    "df_cleaned.reset_index(drop=True, inplace=True)\n",
    "\n",
    "initial_size = len(df)\n",
    "final_size = len(df_cleaned)\n",
    "print(f\"Количество аннотаций после фильтрации: {final_size}\")\n",
    "print(f\"Количество удаленных аннотаций: {initial_size-final_size}\")"
   ]
  },
  {
   "cell_type": "code",
   "execution_count": 14,
   "id": "c45b8b1c",
   "metadata": {},
   "outputs": [
    {
     "name": "stdout",
     "output_type": "stream",
     "text": [
      "Описательная статистика по длине аннотаций:\n"
     ]
    },
    {
     "data": {
      "application/vnd.microsoft.datawrangler.viewer.v0+json": {
       "columns": [
        {
         "name": "index",
         "rawType": "object",
         "type": "string"
        },
        {
         "name": "char_length",
         "rawType": "float64",
         "type": "float"
        },
        {
         "name": "word_count",
         "rawType": "float64",
         "type": "float"
        }
       ],
       "ref": "80959ae3-d3a4-4f4d-8742-50c966282134",
       "rows": [
        [
         "count",
         "19276.0",
         "19276.0"
        ],
        [
         "mean",
         "776.5835235526042",
         "90.87720481427682"
        ],
        [
         "std",
         "545.305481255477",
         "66.59471097735913"
        ],
        [
         "min",
         "132.0",
         "25.0"
        ],
        [
         "25%",
         "393.0",
         "45.0"
        ],
        [
         "50%",
         "579.0",
         "67.0"
        ],
        [
         "75%",
         "989.0",
         "115.0"
        ],
        [
         "max",
         "5548.0",
         "771.0"
        ]
       ],
       "shape": {
        "columns": 2,
        "rows": 8
       }
      },
      "text/html": [
       "<div>\n",
       "<style scoped>\n",
       "    .dataframe tbody tr th:only-of-type {\n",
       "        vertical-align: middle;\n",
       "    }\n",
       "\n",
       "    .dataframe tbody tr th {\n",
       "        vertical-align: top;\n",
       "    }\n",
       "\n",
       "    .dataframe thead th {\n",
       "        text-align: right;\n",
       "    }\n",
       "</style>\n",
       "<table border=\"1\" class=\"dataframe\">\n",
       "  <thead>\n",
       "    <tr style=\"text-align: right;\">\n",
       "      <th></th>\n",
       "      <th>char_length</th>\n",
       "      <th>word_count</th>\n",
       "    </tr>\n",
       "  </thead>\n",
       "  <tbody>\n",
       "    <tr>\n",
       "      <th>count</th>\n",
       "      <td>19276.000000</td>\n",
       "      <td>19276.000000</td>\n",
       "    </tr>\n",
       "    <tr>\n",
       "      <th>mean</th>\n",
       "      <td>776.583524</td>\n",
       "      <td>90.877205</td>\n",
       "    </tr>\n",
       "    <tr>\n",
       "      <th>std</th>\n",
       "      <td>545.305481</td>\n",
       "      <td>66.594711</td>\n",
       "    </tr>\n",
       "    <tr>\n",
       "      <th>min</th>\n",
       "      <td>132.000000</td>\n",
       "      <td>25.000000</td>\n",
       "    </tr>\n",
       "    <tr>\n",
       "      <th>25%</th>\n",
       "      <td>393.000000</td>\n",
       "      <td>45.000000</td>\n",
       "    </tr>\n",
       "    <tr>\n",
       "      <th>50%</th>\n",
       "      <td>579.000000</td>\n",
       "      <td>67.000000</td>\n",
       "    </tr>\n",
       "    <tr>\n",
       "      <th>75%</th>\n",
       "      <td>989.000000</td>\n",
       "      <td>115.000000</td>\n",
       "    </tr>\n",
       "    <tr>\n",
       "      <th>max</th>\n",
       "      <td>5548.000000</td>\n",
       "      <td>771.000000</td>\n",
       "    </tr>\n",
       "  </tbody>\n",
       "</table>\n",
       "</div>"
      ],
      "text/plain": [
       "        char_length    word_count\n",
       "count  19276.000000  19276.000000\n",
       "mean     776.583524     90.877205\n",
       "std      545.305481     66.594711\n",
       "min      132.000000     25.000000\n",
       "25%      393.000000     45.000000\n",
       "50%      579.000000     67.000000\n",
       "75%      989.000000    115.000000\n",
       "max     5548.000000    771.000000"
      ]
     },
     "metadata": {},
     "output_type": "display_data"
    }
   ],
   "source": [
    "df_cleaned['char_length'] = df_cleaned['abstract'].str.len()\n",
    "df_cleaned['word_count'] = df_cleaned['abstract'].apply(lambda x: len(x.split()))\n",
    "\n",
    "print(\"Описательная статистика по длине аннотаций:\")\n",
    "display(df_cleaned[['char_length', 'word_count']].describe())"
   ]
  },
  {
   "cell_type": "code",
   "execution_count": 15,
   "id": "3935c55b",
   "metadata": {},
   "outputs": [
    {
     "data": {
      "image/png": "[encoded data removed]",
      "text/plain": [
       "<Figure size 1800x700 with 2 Axes>"
      ]
     },
     "metadata": {},
     "output_type": "display_data"
    }
   ],
   "source": [
    "sns.set_theme(style=\"whitegrid\")\n",
    "\n",
    "fig, axes = plt.subplots(1, 2, figsize=(18, 7))\n",
    "\n",
    "sns.histplot(df_cleaned['word_count'], bins=40, ax=axes[0], color='skyblue', kde=True)\n",
    "axes[0].set_title('Распределение длины аннотаций в словах', fontsize=14)\n",
    "axes[0].set_xlabel('Количество слов')\n",
    "axes[0].set_ylabel('Частота')\n",
    "\n",
    "sns.histplot(df_cleaned['char_length'], bins=40, ax=axes[1], color='salmon', kde=True)\n",
    "axes[1].set_title('Распределение длины аннотаций в символах', fontsize=14)\n",
    "axes[1].set_xlabel('Количество символов')\n",
    "axes[1].set_ylabel('Частота')\n",
    "\n",
    "plt.suptitle('Анализ распределения длины аннотаций', fontsize=16, y=1.02)\n",
    "plt.tight_layout()\n",
    "plt.show()"
   ]
  },
  {
   "cell_type": "markdown",
   "id": "f44c0f0f",
   "metadata": {},
   "source": [
    "После манипуляции в статическом обзоре не наблюдаются аномальные аннотации, однако нужно продолжить работу с датасетом для улучшения его качества\n",
    "После применения фильтров минимальная длина аннотации теперь составляет 25 слов (ранее - 2), что видно из обновленной таблицы describe(). Распределение длин на гистограмме стало более сфокусированным, исчез левый хвост с аномалиями."
   ]
  },
  {
   "cell_type": "markdown",
   "id": "cc7f2312",
   "metadata": {},
   "source": [
    "# Раздел 3: Анализ целевых ключевых слов (keywords)"
   ]
  },
  {
   "cell_type": "markdown",
   "id": "18383d73",
   "metadata": {},
   "source": [
    "Проанализируем предоставленные ключевые слова. Это поможет понять их структуру и происхождение."
   ]
  },
  {
   "cell_type": "code",
   "execution_count": null,
   "id": "e7864653",
   "metadata": {},
   "outputs": [],
   "source": [
    "import itertools"
   ]
  },
  {
   "cell_type": "code",
   "execution_count": 17,
   "id": "65359e10",
   "metadata": {},
   "outputs": [],
   "source": [
    "def parse_keywords(data):\n",
    "    if isinstance(data, str):\n",
    "        return [kw.strip() for kw in data.split(',')]\n",
    "    return data"
   ]
  },
  {
   "cell_type": "code",
   "execution_count": 18,
   "id": "c1ecb883",
   "metadata": {},
   "outputs": [],
   "source": [
    "df_cleaned['keywords'] = df_cleaned['keywords'].apply(parse_keywords)"
   ]
  },
  {
   "cell_type": "markdown",
   "id": "82b6462c",
   "metadata": {},
   "source": [
    "Теперь столбец keywords будет иметь удобный формат для работы"
   ]
  },
  {
   "cell_type": "code",
   "execution_count": 19,
   "id": "b07d04d3",
   "metadata": {},
   "outputs": [],
   "source": [
    "df_cleaned['keywords_count'] = df_cleaned['keywords'].apply(len)\n",
    "df_cleaned['keyword_length_words'] = df_cleaned['keywords'].apply(lambda lst: [len(kw.split()) for kw in lst])"
   ]
  },
  {
   "cell_type": "code",
   "execution_count": 20,
   "id": "9e2dc100",
   "metadata": {},
   "outputs": [
    {
     "name": "stdout",
     "output_type": "stream",
     "text": [
      "Статистика по количеству ключевых фраз на аннотацию:\n"
     ]
    },
    {
     "data": {
      "application/vnd.microsoft.datawrangler.viewer.v0+json": {
       "columns": [
        {
         "name": "index",
         "rawType": "object",
         "type": "string"
        },
        {
         "name": "keywords_count",
         "rawType": "float64",
         "type": "float"
        }
       ],
       "ref": "ac5a86c2-941e-48ee-aa7c-2d7a4b72ac7c",
       "rows": [
        [
         "count",
         "19276.0"
        ],
        [
         "mean",
         "4.602043992529571"
        ],
        [
         "std",
         "1.6667384596733559"
        ],
        [
         "min",
         "3.0"
        ],
        [
         "25%",
         "3.0"
        ],
        [
         "50%",
         "4.0"
        ],
        [
         "75%",
         "5.0"
        ],
        [
         "max",
         "21.0"
        ]
       ],
       "shape": {
        "columns": 1,
        "rows": 8
       }
      },
      "text/plain": [
       "count    19276.000000\n",
       "mean         4.602044\n",
       "std          1.666738\n",
       "min          3.000000\n",
       "25%          3.000000\n",
       "50%          4.000000\n",
       "75%          5.000000\n",
       "max         21.000000\n",
       "Name: keywords_count, dtype: float64"
      ]
     },
     "metadata": {},
     "output_type": "display_data"
    }
   ],
   "source": [
    "print(\"Статистика по количеству ключевых фраз на аннотацию:\")\n",
    "display(df_cleaned['keywords_count'].describe())"
   ]
  },
  {
   "cell_type": "code",
   "execution_count": 21,
   "id": "53c9e623",
   "metadata": {},
   "outputs": [
    {
     "name": "stderr",
     "output_type": "stream",
     "text": [
      "/var/folders/rl/0ykyj_7s1wx56ylgms0h9bxh0000gn/T/ipykernel_11291/395399386.py:12: FutureWarning: \n",
      "\n",
      "Passing `palette` without assigning `hue` is deprecated and will be removed in v0.14.0. Assign the `x` variable to `hue` and set `legend=False` for the same effect.\n",
      "\n",
      "  sns.countplot(x=all_keyword_lengths, ax=axes[1], palette='viridis')\n"
     ]
    },
    {
     "data": {
      "image/png": "[encoded data removed]",
      "text/plain": [
       "<Figure size 1800x700 with 2 Axes>"
      ]
     },
     "metadata": {},
     "output_type": "display_data"
    }
   ],
   "source": [
    "all_keyword_lengths = list(itertools.chain.from_iterable(df_cleaned['keyword_length_words']))\n",
    "\n",
    "fig, axes = plt.subplots(1, 2, figsize=(18, 7))\n",
    "sns.set_theme(style=\"whitegrid\")\n",
    "\n",
    "sns.histplot(data=df_cleaned, x='keywords_count', ax=axes[0], discrete=True, shrink=.8, color='teal')\n",
    "axes[0].set_title('Распределение количества ключевых фраз на аннотацию', fontsize=14)\n",
    "axes[0].set_xlabel('Количество фраз')\n",
    "axes[0].set_ylabel('Частота')\n",
    "axes[0].set_xticks(range(0, df_cleaned['keywords_count'].max() + 1, 2))\n",
    "\n",
    "sns.countplot(x=all_keyword_lengths, ax=axes[1], palette='viridis')\n",
    "axes[1].set_title('Распределение длины ключевых фраз в словах', fontsize=14)\n",
    "axes[1].set_xlabel('Количество слов во фразе')\n",
    "axes[1].set_ylabel('Частота')\n",
    "\n",
    "plt.suptitle('Анализ структуры ключевых фраз', fontsize=16, y=1.02)\n",
    "plt.tight_layout()\n",
    "plt.show()"
   ]
  },
  {
   "cell_type": "markdown",
   "id": "aaa42f28",
   "metadata": {},
   "source": [
    "* В среднем на одну аннотацию приходится около 3-5 ключевых фраз.\n",
    "*   Подавляющее большинство ключевых фраз состоит из 1, 2 или 3 слов. Это классическая структура для ключевых слов, что подтверждает адекватность данных.\n",
    "\n",
    "Распределение имеет \"хвост\" вправо, что говорит о наличии статей с большим количеством ключевых слов (10+), но их доля невелика.\n",
    "* При настройке наших моделей извлечения мы можем ориентироваться на извлечение примерно 5-7 ключевых фраз из каждого текста. Это будет хорошей эвристикой для большинства случаев.\n"
   ]
  },
  {
   "cell_type": "markdown",
   "id": "1f19c7bd",
   "metadata": {},
   "source": [
    "*  Подавляющее большинство ключевых фраз - это **двухсловные** (биграммы) и **однословные** (униграммы) конструкции. На третьем месте с большим отрывом идут трехсловные фразы (триграммы).\n",
    "*   **Практическое применение** Это самый важный вывод для построения моделей.\n",
    "    *   **Для TF-IDF:** Мы должны настроить `TfidfVectorizer` на извлечение n-грамм в диапазоне от 1 до 3 (`ngram_range=(1, 3)`). Искать более длинные n-граммы будет вычислительно затратно и, как показывает график, практически бесполезно.\n",
    "    *   **Для YAKE:** Алгоритм по своей природе хорошо извлекает многословные конструкции. Данные подтверждают, что применение будет оправдано.\n",
    "    *   **Для LLM:** При составлении промпта для языковой модели мы можем явно попросить ее \"сгенерировать список ключевых фраз, состоящих из 1-3 слов\", чтобы ее ответ лучше соответствовал стилю эталонных данных."
   ]
  },
  {
   "cell_type": "markdown",
   "id": "ac79cf48",
   "metadata": {},
   "source": [
    "# Раздел 4: Предобработка текста для моделей. "
   ]
  },
  {
   "cell_type": "code",
   "execution_count": null,
   "id": "4b51bdf6",
   "metadata": {},
   "outputs": [],
   "source": [
    "import re\n",
    "import nltk\n",
    "from pymorphy3 import MorphAnalyzer\n",
    "from nltk.corpus import stopwords\n",
    "from tqdm.auto import tqdm"
   ]
  },
  {
   "cell_type": "code",
   "execution_count": null,
   "id": "68e93afa",
   "metadata": {},
   "outputs": [],
   "source": [
    "nltk.download('stopwords')\n",
    "nltk.download('punkt', quiet=True)"
   ]
  },
  {
   "cell_type": "code",
   "execution_count": 24,
   "id": "f843a043",
   "metadata": {},
   "outputs": [],
   "source": [
    "russian_stopwords = stopwords.words(\"russian\")\n",
    "\n",
    "morph = MorphAnalyzer()\n",
    "tqdm.pandas()"
   ]
  },
  {
   "cell_type": "markdown",
   "id": "94a15350",
   "metadata": {},
   "source": [
    "Для предобработки аннотаций мы произведем следующие манипуляции:\n",
    "*   Приводим к нижнему регистру для унификации слов.\n",
    "*   Удаляем пунктуацию, заменяя ее пробелами, но сохраняем кириллические, латинские символы и цифры, так как они несут важную информацию в научных текстах (термины, названия).\n",
    "*   Проводим лемматизацию для приведения слов к их нормальной форме, что необходимо для корректной работы TF-IDF.\n",
    "*   Удаляем стоп-слова из стандартного списка NLTK для русского языка, чтобы снизить шум от наиболее частотных, но неинформативных слов."
   ]
  },
  {
   "cell_type": "code",
   "execution_count": 25,
   "id": "50419610",
   "metadata": {},
   "outputs": [],
   "source": [
    "def preprocess_for_tfidf(text: str, morph_analyzer: MorphAnalyzer, stop_words: list) -> str:\n",
    "    \"\"\"\n",
    "    Полная предобработка текста для TF-IDF:\n",
    "    - Приведение к нижнему регистру\n",
    "    - Удаление пунктуации\n",
    "    - Лемматизация\n",
    "    - Удаление стоп-слов\n",
    "    \"\"\"\n",
    "    text = text.lower()\n",
    "    text = re.sub(r'[^\\w\\s]', ' ', text)\n",
    "    words = text.split()\n",
    "    \n",
    "    lemmatized_words = [morph_analyzer.parse(word)[0].normal_form for word in words]\n",
    "    \n",
    "    cleaned_words = [\n",
    "        word for word in lemmatized_words \n",
    "        if word not in stop_words and len(word) > 2\n",
    "    ]\n",
    "    \n",
    "    return \" \".join(cleaned_words)"
   ]
  },
  {
   "cell_type": "code",
   "execution_count": 26,
   "id": "d5ba79b4",
   "metadata": {},
   "outputs": [
    {
     "data": {
      "application/vnd.jupyter.widget-view+json": {
       "model_id": "7ed14f28a9ee48fe8c04e81251c97dac",
       "version_major": 2,
       "version_minor": 0
      },
      "text/plain": [
       "  0%|          | 0/19276 [00:00<?, ?it/s]"
      ]
     },
     "metadata": {},
     "output_type": "display_data"
    },
    {
     "ename": "KeyboardInterrupt",
     "evalue": "",
     "output_type": "error",
     "traceback": [
      "\u001b[31m---------------------------------------------------------------------------\u001b[39m",
      "\u001b[31mKeyboardInterrupt\u001b[39m                         Traceback (most recent call last)",
      "\u001b[36mCell\u001b[39m\u001b[36m \u001b[39m\u001b[32mIn[26]\u001b[39m\u001b[32m, line 1\u001b[39m\n\u001b[32m----> \u001b[39m\u001b[32m1\u001b[39m df_cleaned[\u001b[33m'\u001b[39m\u001b[33mlemmatized_abstract\u001b[39m\u001b[33m'\u001b[39m] = \u001b[43mdf_cleaned\u001b[49m\u001b[43m[\u001b[49m\u001b[33;43m'\u001b[39;49m\u001b[33;43mabstract\u001b[39;49m\u001b[33;43m'\u001b[39;49m\u001b[43m]\u001b[49m\u001b[43m.\u001b[49m\u001b[43mprogress_apply\u001b[49m\u001b[43m(\u001b[49m\n\u001b[32m      2\u001b[39m \u001b[43m    \u001b[49m\u001b[38;5;28;43;01mlambda\u001b[39;49;00m\u001b[43m \u001b[49m\u001b[43mtext\u001b[49m\u001b[43m:\u001b[49m\u001b[43m \u001b[49m\u001b[43mpreprocess_for_tfidf\u001b[49m\u001b[43m(\u001b[49m\u001b[43mtext\u001b[49m\u001b[43m,\u001b[49m\u001b[43m \u001b[49m\u001b[43mmorph\u001b[49m\u001b[43m,\u001b[49m\u001b[43m \u001b[49m\u001b[43mrussian_stopwords\u001b[49m\u001b[43m)\u001b[49m\n\u001b[32m      3\u001b[39m \u001b[43m)\u001b[49m\n",
      "\u001b[36mFile \u001b[39m\u001b[32m/opt/anaconda3/envs/tech-task-dfs/lib/python3.11/site-packages/tqdm/std.py:917\u001b[39m, in \u001b[36mtqdm.pandas.<locals>.inner_generator.<locals>.inner\u001b[39m\u001b[34m(df, func, *args, **kwargs)\u001b[39m\n\u001b[32m    914\u001b[39m \u001b[38;5;66;03m# Apply the provided function (in **kwargs)\u001b[39;00m\n\u001b[32m    915\u001b[39m \u001b[38;5;66;03m# on the df using our wrapper (which provides bar updating)\u001b[39;00m\n\u001b[32m    916\u001b[39m \u001b[38;5;28;01mtry\u001b[39;00m:\n\u001b[32m--> \u001b[39m\u001b[32m917\u001b[39m     \u001b[38;5;28;01mreturn\u001b[39;00m \u001b[38;5;28;43mgetattr\u001b[39;49m\u001b[43m(\u001b[49m\u001b[43mdf\u001b[49m\u001b[43m,\u001b[49m\u001b[43m \u001b[49m\u001b[43mdf_function\u001b[49m\u001b[43m)\u001b[49m\u001b[43m(\u001b[49m\u001b[43mwrapper\u001b[49m\u001b[43m,\u001b[49m\u001b[43m \u001b[49m\u001b[43m*\u001b[49m\u001b[43m*\u001b[49m\u001b[43mkwargs\u001b[49m\u001b[43m)\u001b[49m\n\u001b[32m    918\u001b[39m \u001b[38;5;28;01mfinally\u001b[39;00m:\n\u001b[32m    919\u001b[39m     t.close()\n",
      "\u001b[36mFile \u001b[39m\u001b[32m/opt/anaconda3/envs/tech-task-dfs/lib/python3.11/site-packages/pandas/core/series.py:4935\u001b[39m, in \u001b[36mSeries.apply\u001b[39m\u001b[34m(self, func, convert_dtype, args, by_row, **kwargs)\u001b[39m\n\u001b[32m   4800\u001b[39m \u001b[38;5;28;01mdef\u001b[39;00m\u001b[38;5;250m \u001b[39m\u001b[34mapply\u001b[39m(\n\u001b[32m   4801\u001b[39m     \u001b[38;5;28mself\u001b[39m,\n\u001b[32m   4802\u001b[39m     func: AggFuncType,\n\u001b[32m   (...)\u001b[39m\u001b[32m   4807\u001b[39m     **kwargs,\n\u001b[32m   4808\u001b[39m ) -> DataFrame | Series:\n\u001b[32m   4809\u001b[39m \u001b[38;5;250m    \u001b[39m\u001b[33;03m\"\"\"\u001b[39;00m\n\u001b[32m   4810\u001b[39m \u001b[33;03m    Invoke function on values of Series.\u001b[39;00m\n\u001b[32m   4811\u001b[39m \n\u001b[32m   (...)\u001b[39m\u001b[32m   4926\u001b[39m \u001b[33;03m    dtype: float64\u001b[39;00m\n\u001b[32m   4927\u001b[39m \u001b[33;03m    \"\"\"\u001b[39;00m\n\u001b[32m   4928\u001b[39m     \u001b[38;5;28;01mreturn\u001b[39;00m \u001b[43mSeriesApply\u001b[49m\u001b[43m(\u001b[49m\n\u001b[32m   4929\u001b[39m \u001b[43m        \u001b[49m\u001b[38;5;28;43mself\u001b[39;49m\u001b[43m,\u001b[49m\n\u001b[32m   4930\u001b[39m \u001b[43m        \u001b[49m\u001b[43mfunc\u001b[49m\u001b[43m,\u001b[49m\n\u001b[32m   4931\u001b[39m \u001b[43m        \u001b[49m\u001b[43mconvert_dtype\u001b[49m\u001b[43m=\u001b[49m\u001b[43mconvert_dtype\u001b[49m\u001b[43m,\u001b[49m\n\u001b[32m   4932\u001b[39m \u001b[43m        \u001b[49m\u001b[43mby_row\u001b[49m\u001b[43m=\u001b[49m\u001b[43mby_row\u001b[49m\u001b[43m,\u001b[49m\n\u001b[32m   4933\u001b[39m \u001b[43m        \u001b[49m\u001b[43margs\u001b[49m\u001b[43m=\u001b[49m\u001b[43margs\u001b[49m\u001b[43m,\u001b[49m\n\u001b[32m   4934\u001b[39m \u001b[43m        \u001b[49m\u001b[43mkwargs\u001b[49m\u001b[43m=\u001b[49m\u001b[43mkwargs\u001b[49m\u001b[43m,\u001b[49m\n\u001b[32m-> \u001b[39m\u001b[32m4935\u001b[39m \u001b[43m    \u001b[49m\u001b[43m)\u001b[49m\u001b[43m.\u001b[49m\u001b[43mapply\u001b[49m\u001b[43m(\u001b[49m\u001b[43m)\u001b[49m\n",
      "\u001b[36mFile \u001b[39m\u001b[32m/opt/anaconda3/envs/tech-task-dfs/lib/python3.11/site-packages/pandas/core/apply.py:1422\u001b[39m, in \u001b[36mSeriesApply.apply\u001b[39m\u001b[34m(self)\u001b[39m\n\u001b[32m   1419\u001b[39m     \u001b[38;5;28;01mreturn\u001b[39;00m \u001b[38;5;28mself\u001b[39m.apply_compat()\n\u001b[32m   1421\u001b[39m \u001b[38;5;66;03m# self.func is Callable\u001b[39;00m\n\u001b[32m-> \u001b[39m\u001b[32m1422\u001b[39m \u001b[38;5;28;01mreturn\u001b[39;00m \u001b[38;5;28;43mself\u001b[39;49m\u001b[43m.\u001b[49m\u001b[43mapply_standard\u001b[49m\u001b[43m(\u001b[49m\u001b[43m)\u001b[49m\n",
      "\u001b[36mFile \u001b[39m\u001b[32m/opt/anaconda3/envs/tech-task-dfs/lib/python3.11/site-packages/pandas/core/apply.py:1502\u001b[39m, in \u001b[36mSeriesApply.apply_standard\u001b[39m\u001b[34m(self)\u001b[39m\n\u001b[32m   1496\u001b[39m \u001b[38;5;66;03m# row-wise access\u001b[39;00m\n\u001b[32m   1497\u001b[39m \u001b[38;5;66;03m# apply doesn't have a `na_action` keyword and for backward compat reasons\u001b[39;00m\n\u001b[32m   1498\u001b[39m \u001b[38;5;66;03m# we need to give `na_action=\"ignore\"` for categorical data.\u001b[39;00m\n\u001b[32m   1499\u001b[39m \u001b[38;5;66;03m# TODO: remove the `na_action=\"ignore\"` when that default has been changed in\u001b[39;00m\n\u001b[32m   1500\u001b[39m \u001b[38;5;66;03m#  Categorical (GH51645).\u001b[39;00m\n\u001b[32m   1501\u001b[39m action = \u001b[33m\"\u001b[39m\u001b[33mignore\u001b[39m\u001b[33m\"\u001b[39m \u001b[38;5;28;01mif\u001b[39;00m \u001b[38;5;28misinstance\u001b[39m(obj.dtype, CategoricalDtype) \u001b[38;5;28;01melse\u001b[39;00m \u001b[38;5;28;01mNone\u001b[39;00m\n\u001b[32m-> \u001b[39m\u001b[32m1502\u001b[39m mapped = \u001b[43mobj\u001b[49m\u001b[43m.\u001b[49m\u001b[43m_map_values\u001b[49m\u001b[43m(\u001b[49m\n\u001b[32m   1503\u001b[39m \u001b[43m    \u001b[49m\u001b[43mmapper\u001b[49m\u001b[43m=\u001b[49m\u001b[43mcurried\u001b[49m\u001b[43m,\u001b[49m\u001b[43m \u001b[49m\u001b[43mna_action\u001b[49m\u001b[43m=\u001b[49m\u001b[43maction\u001b[49m\u001b[43m,\u001b[49m\u001b[43m \u001b[49m\u001b[43mconvert\u001b[49m\u001b[43m=\u001b[49m\u001b[38;5;28;43mself\u001b[39;49m\u001b[43m.\u001b[49m\u001b[43mconvert_dtype\u001b[49m\n\u001b[32m   1504\u001b[39m \u001b[43m\u001b[49m\u001b[43m)\u001b[49m\n\u001b[32m   1506\u001b[39m \u001b[38;5;28;01mif\u001b[39;00m \u001b[38;5;28mlen\u001b[39m(mapped) \u001b[38;5;129;01mand\u001b[39;00m \u001b[38;5;28misinstance\u001b[39m(mapped[\u001b[32m0\u001b[39m], ABCSeries):\n\u001b[32m   1507\u001b[39m     \u001b[38;5;66;03m# GH#43986 Need to do list(mapped) in order to get treated as nested\u001b[39;00m\n\u001b[32m   1508\u001b[39m     \u001b[38;5;66;03m#  See also GH#25959 regarding EA support\u001b[39;00m\n\u001b[32m   1509\u001b[39m     \u001b[38;5;28;01mreturn\u001b[39;00m obj._constructor_expanddim(\u001b[38;5;28mlist\u001b[39m(mapped), index=obj.index)\n",
      "\u001b[36mFile \u001b[39m\u001b[32m/opt/anaconda3/envs/tech-task-dfs/lib/python3.11/site-packages/pandas/core/base.py:925\u001b[39m, in \u001b[36mIndexOpsMixin._map_values\u001b[39m\u001b[34m(self, mapper, na_action, convert)\u001b[39m\n\u001b[32m    922\u001b[39m \u001b[38;5;28;01mif\u001b[39;00m \u001b[38;5;28misinstance\u001b[39m(arr, ExtensionArray):\n\u001b[32m    923\u001b[39m     \u001b[38;5;28;01mreturn\u001b[39;00m arr.map(mapper, na_action=na_action)\n\u001b[32m--> \u001b[39m\u001b[32m925\u001b[39m \u001b[38;5;28;01mreturn\u001b[39;00m \u001b[43malgorithms\u001b[49m\u001b[43m.\u001b[49m\u001b[43mmap_array\u001b[49m\u001b[43m(\u001b[49m\u001b[43marr\u001b[49m\u001b[43m,\u001b[49m\u001b[43m \u001b[49m\u001b[43mmapper\u001b[49m\u001b[43m,\u001b[49m\u001b[43m \u001b[49m\u001b[43mna_action\u001b[49m\u001b[43m=\u001b[49m\u001b[43mna_action\u001b[49m\u001b[43m,\u001b[49m\u001b[43m \u001b[49m\u001b[43mconvert\u001b[49m\u001b[43m=\u001b[49m\u001b[43mconvert\u001b[49m\u001b[43m)\u001b[49m\n",
      "\u001b[36mFile \u001b[39m\u001b[32m/opt/anaconda3/envs/tech-task-dfs/lib/python3.11/site-packages/pandas/core/algorithms.py:1743\u001b[39m, in \u001b[36mmap_array\u001b[39m\u001b[34m(arr, mapper, na_action, convert)\u001b[39m\n\u001b[32m   1741\u001b[39m values = arr.astype(\u001b[38;5;28mobject\u001b[39m, copy=\u001b[38;5;28;01mFalse\u001b[39;00m)\n\u001b[32m   1742\u001b[39m \u001b[38;5;28;01mif\u001b[39;00m na_action \u001b[38;5;129;01mis\u001b[39;00m \u001b[38;5;28;01mNone\u001b[39;00m:\n\u001b[32m-> \u001b[39m\u001b[32m1743\u001b[39m     \u001b[38;5;28;01mreturn\u001b[39;00m \u001b[43mlib\u001b[49m\u001b[43m.\u001b[49m\u001b[43mmap_infer\u001b[49m\u001b[43m(\u001b[49m\u001b[43mvalues\u001b[49m\u001b[43m,\u001b[49m\u001b[43m \u001b[49m\u001b[43mmapper\u001b[49m\u001b[43m,\u001b[49m\u001b[43m \u001b[49m\u001b[43mconvert\u001b[49m\u001b[43m=\u001b[49m\u001b[43mconvert\u001b[49m\u001b[43m)\u001b[49m\n\u001b[32m   1744\u001b[39m \u001b[38;5;28;01melse\u001b[39;00m:\n\u001b[32m   1745\u001b[39m     \u001b[38;5;28;01mreturn\u001b[39;00m lib.map_infer_mask(\n\u001b[32m   1746\u001b[39m         values, mapper, mask=isna(values).view(np.uint8), convert=convert\n\u001b[32m   1747\u001b[39m     )\n",
      "\u001b[36mFile \u001b[39m\u001b[32mpandas/_libs/lib.pyx:2999\u001b[39m, in \u001b[36mpandas._libs.lib.map_infer\u001b[39m\u001b[34m()\u001b[39m\n",
      "\u001b[36mFile \u001b[39m\u001b[32m/opt/anaconda3/envs/tech-task-dfs/lib/python3.11/site-packages/tqdm/std.py:912\u001b[39m, in \u001b[36mtqdm.pandas.<locals>.inner_generator.<locals>.inner.<locals>.wrapper\u001b[39m\u001b[34m(*args, **kwargs)\u001b[39m\n\u001b[32m    906\u001b[39m \u001b[38;5;28;01mdef\u001b[39;00m\u001b[38;5;250m \u001b[39m\u001b[34mwrapper\u001b[39m(*args, **kwargs):\n\u001b[32m    907\u001b[39m     \u001b[38;5;66;03m# update tbar correctly\u001b[39;00m\n\u001b[32m    908\u001b[39m     \u001b[38;5;66;03m# it seems `pandas apply` calls `func` twice\u001b[39;00m\n\u001b[32m    909\u001b[39m     \u001b[38;5;66;03m# on the first column/row to decide whether it can\u001b[39;00m\n\u001b[32m    910\u001b[39m     \u001b[38;5;66;03m# take a fast or slow code path; so stop when t.total==t.n\u001b[39;00m\n\u001b[32m    911\u001b[39m     t.update(n=\u001b[32m1\u001b[39m \u001b[38;5;28;01mif\u001b[39;00m \u001b[38;5;129;01mnot\u001b[39;00m t.total \u001b[38;5;129;01mor\u001b[39;00m t.n < t.total \u001b[38;5;28;01melse\u001b[39;00m \u001b[32m0\u001b[39m)\n\u001b[32m--> \u001b[39m\u001b[32m912\u001b[39m     \u001b[38;5;28;01mreturn\u001b[39;00m \u001b[43mfunc\u001b[49m\u001b[43m(\u001b[49m\u001b[43m*\u001b[49m\u001b[43margs\u001b[49m\u001b[43m,\u001b[49m\u001b[43m \u001b[49m\u001b[43m*\u001b[49m\u001b[43m*\u001b[49m\u001b[43mkwargs\u001b[49m\u001b[43m)\u001b[49m\n",
      "\u001b[36mCell\u001b[39m\u001b[36m \u001b[39m\u001b[32mIn[26]\u001b[39m\u001b[32m, line 2\u001b[39m, in \u001b[36m<lambda>\u001b[39m\u001b[34m(text)\u001b[39m\n\u001b[32m      1\u001b[39m df_cleaned[\u001b[33m'\u001b[39m\u001b[33mlemmatized_abstract\u001b[39m\u001b[33m'\u001b[39m] = df_cleaned[\u001b[33m'\u001b[39m\u001b[33mabstract\u001b[39m\u001b[33m'\u001b[39m].progress_apply(\n\u001b[32m----> \u001b[39m\u001b[32m2\u001b[39m     \u001b[38;5;28;01mlambda\u001b[39;00m text: \u001b[43mpreprocess_for_tfidf\u001b[49m\u001b[43m(\u001b[49m\u001b[43mtext\u001b[49m\u001b[43m,\u001b[49m\u001b[43m \u001b[49m\u001b[43mmorph\u001b[49m\u001b[43m,\u001b[49m\u001b[43m \u001b[49m\u001b[43mrussian_stopwords\u001b[49m\u001b[43m)\u001b[49m\n\u001b[32m      3\u001b[39m )\n",
      "\u001b[36mCell\u001b[39m\u001b[36m \u001b[39m\u001b[32mIn[25]\u001b[39m\u001b[32m, line 13\u001b[39m, in \u001b[36mpreprocess_for_tfidf\u001b[39m\u001b[34m(text, morph_analyzer, stop_words)\u001b[39m\n\u001b[32m     10\u001b[39m text = re.sub(\u001b[33mr\u001b[39m\u001b[33m'\u001b[39m\u001b[33m[^\u001b[39m\u001b[33m\\\u001b[39m\u001b[33mw\u001b[39m\u001b[33m\\\u001b[39m\u001b[33ms]\u001b[39m\u001b[33m'\u001b[39m, \u001b[33m'\u001b[39m\u001b[33m \u001b[39m\u001b[33m'\u001b[39m, text)\n\u001b[32m     11\u001b[39m words = text.split()\n\u001b[32m---> \u001b[39m\u001b[32m13\u001b[39m lemmatized_words = \u001b[43m[\u001b[49m\u001b[43mmorph_analyzer\u001b[49m\u001b[43m.\u001b[49m\u001b[43mparse\u001b[49m\u001b[43m(\u001b[49m\u001b[43mword\u001b[49m\u001b[43m)\u001b[49m\u001b[43m[\u001b[49m\u001b[32;43m0\u001b[39;49m\u001b[43m]\u001b[49m\u001b[43m.\u001b[49m\u001b[43mnormal_form\u001b[49m\u001b[43m \u001b[49m\u001b[38;5;28;43;01mfor\u001b[39;49;00m\u001b[43m \u001b[49m\u001b[43mword\u001b[49m\u001b[43m \u001b[49m\u001b[38;5;129;43;01min\u001b[39;49;00m\u001b[43m \u001b[49m\u001b[43mwords\u001b[49m\u001b[43m]\u001b[49m\n\u001b[32m     15\u001b[39m cleaned_words = [\n\u001b[32m     16\u001b[39m     word \u001b[38;5;28;01mfor\u001b[39;00m word \u001b[38;5;129;01min\u001b[39;00m lemmatized_words \n\u001b[32m     17\u001b[39m     \u001b[38;5;28;01mif\u001b[39;00m word \u001b[38;5;129;01mnot\u001b[39;00m \u001b[38;5;129;01min\u001b[39;00m stop_words \u001b[38;5;129;01mand\u001b[39;00m \u001b[38;5;28mlen\u001b[39m(word) > \u001b[32m2\u001b[39m\n\u001b[32m     18\u001b[39m ]\n\u001b[32m     20\u001b[39m \u001b[38;5;28;01mreturn\u001b[39;00m \u001b[33m\"\u001b[39m\u001b[33m \u001b[39m\u001b[33m\"\u001b[39m.join(cleaned_words)\n",
      "\u001b[36mCell\u001b[39m\u001b[36m \u001b[39m\u001b[32mIn[25]\u001b[39m\u001b[32m, line 13\u001b[39m, in \u001b[36m<listcomp>\u001b[39m\u001b[34m(.0)\u001b[39m\n\u001b[32m     10\u001b[39m text = re.sub(\u001b[33mr\u001b[39m\u001b[33m'\u001b[39m\u001b[33m[^\u001b[39m\u001b[33m\\\u001b[39m\u001b[33mw\u001b[39m\u001b[33m\\\u001b[39m\u001b[33ms]\u001b[39m\u001b[33m'\u001b[39m, \u001b[33m'\u001b[39m\u001b[33m \u001b[39m\u001b[33m'\u001b[39m, text)\n\u001b[32m     11\u001b[39m words = text.split()\n\u001b[32m---> \u001b[39m\u001b[32m13\u001b[39m lemmatized_words = [\u001b[43mmorph_analyzer\u001b[49m\u001b[43m.\u001b[49m\u001b[43mparse\u001b[49m\u001b[43m(\u001b[49m\u001b[43mword\u001b[49m\u001b[43m)\u001b[49m[\u001b[32m0\u001b[39m].normal_form \u001b[38;5;28;01mfor\u001b[39;00m word \u001b[38;5;129;01min\u001b[39;00m words]\n\u001b[32m     15\u001b[39m cleaned_words = [\n\u001b[32m     16\u001b[39m     word \u001b[38;5;28;01mfor\u001b[39;00m word \u001b[38;5;129;01min\u001b[39;00m lemmatized_words \n\u001b[32m     17\u001b[39m     \u001b[38;5;28;01mif\u001b[39;00m word \u001b[38;5;129;01mnot\u001b[39;00m \u001b[38;5;129;01min\u001b[39;00m stop_words \u001b[38;5;129;01mand\u001b[39;00m \u001b[38;5;28mlen\u001b[39m(word) > \u001b[32m2\u001b[39m\n\u001b[32m     18\u001b[39m ]\n\u001b[32m     20\u001b[39m \u001b[38;5;28;01mreturn\u001b[39;00m \u001b[33m\"\u001b[39m\u001b[33m \u001b[39m\u001b[33m\"\u001b[39m.join(cleaned_words)\n",
      "\u001b[36mFile \u001b[39m\u001b[32m/opt/anaconda3/envs/tech-task-dfs/lib/python3.11/site-packages/pymorphy3/analyzer.py:330\u001b[39m, in \u001b[36mMorphAnalyzer.parse\u001b[39m\u001b[34m(self, word)\u001b[39m\n\u001b[32m    327\u001b[39m word_lower = word.lower()\n\u001b[32m    329\u001b[39m \u001b[38;5;28;01mfor\u001b[39;00m analyzer, is_terminal \u001b[38;5;129;01min\u001b[39;00m \u001b[38;5;28mself\u001b[39m._units:\n\u001b[32m--> \u001b[39m\u001b[32m330\u001b[39m     res.extend(\u001b[43manalyzer\u001b[49m\u001b[43m.\u001b[49m\u001b[43mparse\u001b[49m\u001b[43m(\u001b[49m\u001b[43mword\u001b[49m\u001b[43m,\u001b[49m\u001b[43m \u001b[49m\u001b[43mword_lower\u001b[49m\u001b[43m,\u001b[49m\u001b[43m \u001b[49m\u001b[43mseen\u001b[49m\u001b[43m)\u001b[49m)\n\u001b[32m    332\u001b[39m     \u001b[38;5;28;01mif\u001b[39;00m is_terminal \u001b[38;5;129;01mand\u001b[39;00m res:\n\u001b[32m    333\u001b[39m         \u001b[38;5;28;01mbreak\u001b[39;00m\n",
      "\u001b[36mFile \u001b[39m\u001b[32m/opt/anaconda3/envs/tech-task-dfs/lib/python3.11/site-packages/pymorphy3/units/by_lookup.py:23\u001b[39m, in \u001b[36mDictionaryAnalyzer.parse\u001b[39m\u001b[34m(self, word, word_lower, seen_parses)\u001b[39m\n\u001b[32m     19\u001b[39m \u001b[38;5;250m\u001b[39m\u001b[33;03m\"\"\"\u001b[39;00m\n\u001b[32m     20\u001b[39m \u001b[33;03mParse a word using this dictionary.\u001b[39;00m\n\u001b[32m     21\u001b[39m \u001b[33;03m\"\"\"\u001b[39;00m\n\u001b[32m     22\u001b[39m res = []\n\u001b[32m---> \u001b[39m\u001b[32m23\u001b[39m para_data = \u001b[38;5;28;43mself\u001b[39;49m\u001b[43m.\u001b[49m\u001b[43mdict\u001b[49m\u001b[43m.\u001b[49m\u001b[43mwords\u001b[49m\u001b[43m.\u001b[49m\u001b[43msimilar_items\u001b[49m\u001b[43m(\u001b[49m\u001b[43mword_lower\u001b[49m\u001b[43m,\u001b[49m\u001b[43m \u001b[49m\u001b[38;5;28;43mself\u001b[39;49m\u001b[43m.\u001b[49m\u001b[43mmorph\u001b[49m\u001b[43m.\u001b[49m\u001b[43mchar_substitutes\u001b[49m\u001b[43m)\u001b[49m\n\u001b[32m     25\u001b[39m \u001b[38;5;28;01mfor\u001b[39;00m fixed_word, parses \u001b[38;5;129;01min\u001b[39;00m para_data:\n\u001b[32m     26\u001b[39m     \u001b[38;5;66;03m# `fixed_word` is a word with proper substitute (e.g. ё) letters\u001b[39;00m\n\u001b[32m     28\u001b[39m     \u001b[38;5;28;01mfor\u001b[39;00m para_id, idx \u001b[38;5;129;01min\u001b[39;00m parses:\n",
      "\u001b[36mFile \u001b[39m\u001b[32m/opt/anaconda3/envs/tech-task-dfs/lib/python3.11/site-packages/dawg_python/dawgs.py:331\u001b[39m, in \u001b[36mBytesDAWG.similar_items\u001b[39m\u001b[34m(self, key, replaces)\u001b[39m\n\u001b[32m    321\u001b[39m \u001b[38;5;28;01mdef\u001b[39;00m\u001b[38;5;250m \u001b[39m\u001b[34msimilar_items\u001b[39m(\u001b[38;5;28mself\u001b[39m, key: \u001b[38;5;28mstr\u001b[39m, replaces: CompiledReplaces) -> \u001b[38;5;28mlist\u001b[39m[\u001b[38;5;28mtuple\u001b[39m[\u001b[38;5;28mstr\u001b[39m, \u001b[38;5;28mbytes\u001b[39m]]:\n\u001b[32m    322\u001b[39m \u001b[38;5;250m    \u001b[39m\u001b[33;03m\"\"\"\u001b[39;00m\n\u001b[32m    323\u001b[39m \u001b[33;03m    Returns a list of (key, value) tuples for all variants of ``key``\u001b[39;00m\n\u001b[32m    324\u001b[39m \u001b[33;03m    in this DAWG according to ``replaces``.\u001b[39;00m\n\u001b[32m   (...)\u001b[39m\u001b[32m    329\u001b[39m \u001b[33;03m    unicode strings.\u001b[39;00m\n\u001b[32m    330\u001b[39m \u001b[33;03m    \"\"\"\u001b[39;00m\n\u001b[32m--> \u001b[39m\u001b[32m331\u001b[39m     \u001b[38;5;28;01mreturn\u001b[39;00m \u001b[38;5;28;43mself\u001b[39;49m\u001b[43m.\u001b[49m\u001b[43m_similar_items\u001b[49m\u001b[43m(\u001b[49m\u001b[33;43m\"\u001b[39;49m\u001b[33;43m\"\u001b[39;49m\u001b[43m,\u001b[49m\u001b[43m \u001b[49m\u001b[43mkey\u001b[49m\u001b[43m,\u001b[49m\u001b[43m \u001b[49m\u001b[38;5;28;43mself\u001b[39;49m\u001b[43m.\u001b[49m\u001b[43mdct\u001b[49m\u001b[43m.\u001b[49m\u001b[43mROOT\u001b[49m\u001b[43m,\u001b[49m\u001b[43m \u001b[49m\u001b[43mreplaces\u001b[49m\u001b[43m)\u001b[49m\n",
      "\u001b[36mFile \u001b[39m\u001b[32m/opt/anaconda3/envs/tech-task-dfs/lib/python3.11/site-packages/dawg_python/dawgs.py:316\u001b[39m, in \u001b[36mBytesDAWG._similar_items\u001b[39m\u001b[34m(self, current_prefix, key, index, replace_chars)\u001b[39m\n\u001b[32m    314\u001b[39m     \u001b[38;5;28;01mif\u001b[39;00m index:\n\u001b[32m    315\u001b[39m         found_key = current_prefix + key[start_pos:]\n\u001b[32m--> \u001b[39m\u001b[32m316\u001b[39m         value = \u001b[38;5;28;43mself\u001b[39;49m\u001b[43m.\u001b[49m\u001b[43m_value_for_index\u001b[49m\u001b[43m(\u001b[49m\u001b[43mindex\u001b[49m\u001b[43m)\u001b[49m\n\u001b[32m    317\u001b[39m         res.insert(\u001b[32m0\u001b[39m, (found_key, value))\n\u001b[32m    319\u001b[39m \u001b[38;5;28;01mreturn\u001b[39;00m res\n",
      "\u001b[36mFile \u001b[39m\u001b[32m/opt/anaconda3/envs/tech-task-dfs/lib/python3.11/site-packages/dawg_python/dawgs.py:390\u001b[39m, in \u001b[36mRecordDAWG._value_for_index\u001b[39m\u001b[34m(self, index)\u001b[39m\n\u001b[32m    389\u001b[39m \u001b[38;5;28;01mdef\u001b[39;00m\u001b[38;5;250m \u001b[39m\u001b[34m_value_for_index\u001b[39m(\u001b[38;5;28mself\u001b[39m, index: \u001b[38;5;28mint\u001b[39m) -> \u001b[38;5;28mlist\u001b[39m[\u001b[38;5;28mtuple\u001b[39m[Any, ...]]:\n\u001b[32m--> \u001b[39m\u001b[32m390\u001b[39m     value = \u001b[38;5;28;43msuper\u001b[39;49m\u001b[43m(\u001b[49m\u001b[43m)\u001b[49m\u001b[43m.\u001b[49m\u001b[43m_value_for_index\u001b[49m\u001b[43m(\u001b[49m\u001b[43mindex\u001b[49m\u001b[43m)\u001b[49m\n\u001b[32m    391\u001b[39m     \u001b[38;5;28;01mreturn\u001b[39;00m [\u001b[38;5;28mself\u001b[39m._struct.unpack(val) \u001b[38;5;28;01mfor\u001b[39;00m val \u001b[38;5;129;01min\u001b[39;00m value]\n",
      "\u001b[36mFile \u001b[39m\u001b[32m/opt/anaconda3/envs/tech-task-dfs/lib/python3.11/site-packages/dawg_python/dawgs.py:223\u001b[39m, in \u001b[36mBytesDAWG._value_for_index\u001b[39m\u001b[34m(self, index)\u001b[39m\n\u001b[32m    220\u001b[39m completer = wrapper.Completer(\u001b[38;5;28mself\u001b[39m.dct, \u001b[38;5;28mself\u001b[39m.guide)\n\u001b[32m    222\u001b[39m completer.start(index)\n\u001b[32m--> \u001b[39m\u001b[32m223\u001b[39m \u001b[38;5;28;01mwhile\u001b[39;00m \u001b[43mcompleter\u001b[49m\u001b[43m.\u001b[49m\u001b[43mnext\u001b[49m\u001b[43m(\u001b[49m\u001b[43m)\u001b[49m:\n\u001b[32m    224\u001b[39m     b64_data = completer.key\n\u001b[32m    225\u001b[39m     res.append(a2b_base64(b64_data))\n",
      "\u001b[36mFile \u001b[39m\u001b[32m/opt/anaconda3/envs/tech-task-dfs/lib/python3.11/site-packages/dawg_python/wrapper.py:160\u001b[39m, in \u001b[36mCompleter.next\u001b[39m\u001b[34m(self)\u001b[39m\n\u001b[32m    157\u001b[39m                     \u001b[38;5;28;01mreturn\u001b[39;00m \u001b[38;5;28;01mFalse\u001b[39;00m\n\u001b[32m    158\u001b[39m                 \u001b[38;5;28;01mbreak\u001b[39;00m\n\u001b[32m--> \u001b[39m\u001b[32m160\u001b[39m \u001b[38;5;28;01mreturn\u001b[39;00m \u001b[38;5;28;43mself\u001b[39;49m\u001b[43m.\u001b[49m\u001b[43m_find_terminal\u001b[49m\u001b[43m(\u001b[49m\u001b[43mindex\u001b[49m\u001b[43m)\u001b[49m\n",
      "\u001b[36mFile \u001b[39m\u001b[32m/opt/anaconda3/envs/tech-task-dfs/lib/python3.11/site-packages/dawg_python/wrapper.py:179\u001b[39m, in \u001b[36mCompleter._find_terminal\u001b[39m\u001b[34m(self, index)\u001b[39m\n\u001b[32m    176\u001b[39m     \u001b[38;5;28;01mif\u001b[39;00m index \u001b[38;5;129;01mis\u001b[39;00m \u001b[38;5;28;01mNone\u001b[39;00m:\n\u001b[32m    177\u001b[39m         \u001b[38;5;28;01mreturn\u001b[39;00m \u001b[38;5;28;01mFalse\u001b[39;00m\n\u001b[32m--> \u001b[39m\u001b[32m179\u001b[39m     \u001b[38;5;28mself\u001b[39m.key.append(label)\n\u001b[32m    180\u001b[39m     \u001b[38;5;28mself\u001b[39m._index_stack.append(index)\n\u001b[32m    182\u001b[39m \u001b[38;5;28mself\u001b[39m._last_index = index\n",
      "\u001b[31mKeyboardInterrupt\u001b[39m: "
     ]
    }
   ],
   "source": [
    "df_cleaned['lemmatized_abstract'] = df_cleaned['abstract'].progress_apply(\n",
    "    lambda text: preprocess_for_tfidf(text, morph, russian_stopwords)\n",
    ")"
   ]
  },
  {
   "cell_type": "code",
   "execution_count": null,
   "id": "7806b1bd",
   "metadata": {},
   "outputs": [
    {
     "data": {
      "application/vnd.microsoft.datawrangler.viewer.v0+json": {
       "columns": [
        {
         "name": "index",
         "rawType": "int64",
         "type": "integer"
        },
        {
         "name": "abstract",
         "rawType": "object",
         "type": "string"
        },
        {
         "name": "lemmatized_abstract",
         "rawType": "object",
         "type": "string"
        }
       ],
       "ref": "eb9c1170-d211-450d-888b-bdfcc7422f50",
       "rows": [
        [
         "0",
         "В статье рассматривается сущность и диагностика морально-психологического состояния личного состава. Отмечается, что морально-психологическое состояние исторически устойчивый термин. Возникновение его в начале 1990-х гг. подтвердилось в настоящее время во всех современных армиях, ему придается особая роль в возрастающем значении боевой готовности силовых структур Российской Федерации, способности их к защите национальных интересов и безопасности государства.",
         "статья рассматриваться сущность диагностика морально психологический состояние личный состав отмечаться морально психологический состояние исторически устойчивый термин возникновение начало год подтвердиться настоящий время весь современный армия придаваться особый роль возрастать значение боевой готовность силовой структура российский федерация способность защита национальный интерес безопасность государство"
        ],
        [
         "1",
         "Вводятся в научный оборот результаты палеокарпологического анализа керамики поселения черкаскульской культуры бронзового века Ольховка, расположенного в долине Исети. Обнаружение на черепках отпечатков семян пшеницы и ячменя практически первое прямое свидетельство знакомства черкаскульского населения Приисетья с земледелием, хотя вопрос о его роли в хозяйстве указанной группировки остается открытым.",
         "вводиться научный оборот результат палеокарпологический анализ керамика поселение черкаскульский культура бронзовый век ольховка расположить долина исеть обнаружение черепок отпечаток семя пшеница ячмень практически первый прямой свидетельство знакомство черкаскульский население приисетие земледелие хотя вопрос роль хозяйство указанный группировка оставаться открытый"
        ],
        [
         "2",
         "Статья посвящена одонтологической характеристике населения ямной культурно-исторической общности. На основании одонтологических данных проанализирован состав ямного населения Калмыкии, Астраханской области и Украины. Сделан вывод о морфологической неоднородности ямников и ведущей роли в формировании комплекса их одонтологических характеристик грацильного населения южного происхождения.",
         "статья посвятить одонтологический характеристика население ямный культурно исторический общность основание одонтологический данные проанализировать состав ямный население калмыкия астраханский область украина сделать вывод морфологический неоднородность ямник ведущий роль формирование комплекс одонтологический характеристика грацильный население южный происхождение"
        ],
        [
         "3",
         "В статье рассматривается содержание писем и рассказов фронтовиков, оказывавшее разноплановое влияние на восприятие горожанами поволжских губерний действительности в годы Первой мировой войны. Отмечено его содействие развитию у населения чувства патриотизма. Также на конкретных примерах показано влияние писем из действующей армии и разговоров фронтовиков на формирование у горожан Поволжья негативного отношения к власти и представителям еврейского народа. Раскрывается деятельность правительственных органов по недопущению негативного воздействия военной корреспонденции на сознание мирных жителей.",
         "статья рассматриваться содержание письмо рассказ фронтовик оказывать разноплановый влияние восприятие горожанин поволжский губерния действительность год первый мировой война отметить содействие развитие население чувство патриотизм также конкретный пример показать влияние письмо действовать армия разговор фронтовик формирование горожанин поволжье негативный отношение власть представитель еврейский народ раскрываться деятельность правительственный орган недопущение негативный воздействие военный корреспонденция сознание мирный житель"
        ],
        [
         "4",
         "В статье представлен анализ системы управления Московских приказов и городов в Смутное время начала XVII в. Реконструкция 700 биографий служащих (дьяков и подьячих) позволила выявить основные признаки бюрократии и показать, что кризис верховной власти не приводит к разрушению сложившихся институтов центрального и местного управления.",
         "статья представить анализ система управление московский приказ город смутный время начало реконструкция биография служащий дьяк подьячий позволить выявить основной признак бюрократия показать кризис верховный власть приводить разрушение сложиться институт центральный местный управление"
        ]
       ],
       "shape": {
        "columns": 2,
        "rows": 5
       }
      },
      "text/html": [
       "<div>\n",
       "<style scoped>\n",
       "    .dataframe tbody tr th:only-of-type {\n",
       "        vertical-align: middle;\n",
       "    }\n",
       "\n",
       "    .dataframe tbody tr th {\n",
       "        vertical-align: top;\n",
       "    }\n",
       "\n",
       "    .dataframe thead th {\n",
       "        text-align: right;\n",
       "    }\n",
       "</style>\n",
       "<table border=\"1\" class=\"dataframe\">\n",
       "  <thead>\n",
       "    <tr style=\"text-align: right;\">\n",
       "      <th></th>\n",
       "      <th>abstract</th>\n",
       "      <th>lemmatized_abstract</th>\n",
       "    </tr>\n",
       "  </thead>\n",
       "  <tbody>\n",
       "    <tr>\n",
       "      <th>0</th>\n",
       "      <td>В статье рассматривается сущность и диагностик...</td>\n",
       "      <td>статья рассматриваться сущность диагностика мо...</td>\n",
       "    </tr>\n",
       "    <tr>\n",
       "      <th>1</th>\n",
       "      <td>Вводятся в научный оборот результаты палеокарп...</td>\n",
       "      <td>вводиться научный оборот результат палеокарпол...</td>\n",
       "    </tr>\n",
       "    <tr>\n",
       "      <th>2</th>\n",
       "      <td>Статья посвящена одонтологической характеристи...</td>\n",
       "      <td>статья посвятить одонтологический характеристи...</td>\n",
       "    </tr>\n",
       "    <tr>\n",
       "      <th>3</th>\n",
       "      <td>В статье рассматривается содержание писем и ра...</td>\n",
       "      <td>статья рассматриваться содержание письмо расск...</td>\n",
       "    </tr>\n",
       "    <tr>\n",
       "      <th>4</th>\n",
       "      <td>В статье представлен анализ системы управления...</td>\n",
       "      <td>статья представить анализ система управление м...</td>\n",
       "    </tr>\n",
       "  </tbody>\n",
       "</table>\n",
       "</div>"
      ],
      "text/plain": [
       "                                            abstract  \\\n",
       "0  В статье рассматривается сущность и диагностик...   \n",
       "1  Вводятся в научный оборот результаты палеокарп...   \n",
       "2  Статья посвящена одонтологической характеристи...   \n",
       "3  В статье рассматривается содержание писем и ра...   \n",
       "4  В статье представлен анализ системы управления...   \n",
       "\n",
       "                                 lemmatized_abstract  \n",
       "0  статья рассматриваться сущность диагностика мо...  \n",
       "1  вводиться научный оборот результат палеокарпол...  \n",
       "2  статья посвятить одонтологический характеристи...  \n",
       "3  статья рассматриваться содержание письмо расск...  \n",
       "4  статья представить анализ система управление м...  "
      ]
     },
     "metadata": {},
     "output_type": "display_data"
    }
   ],
   "source": [
    "display(df_cleaned[['abstract', 'lemmatized_abstract']].head())"
   ]
  },
  {
   "cell_type": "code",
   "execution_count": null,
   "id": "66952042",
   "metadata": {},
   "outputs": [
    {
     "name": "stdout",
     "output_type": "stream",
     "text": [
      "--- ИСХОДНЫЙ ТЕКСТ (для LLM, эмбеддингов, YAKE) ---\n",
      "В статье рассматривается военно-политическая деятельность М.В. Фрунзе по вопросам военного строительства Советского государства, идеи и взгляды на реформирование и преобразование Вооруженных Сил, реализованные в трудовой деятельности, а также значение его военно-теоретического наследия для военно-политической теории и практики современной России.\n",
      "\n",
      "==================================================\n",
      "\n",
      "--- ЛЕММАТИЗИРОВАННЫЙ ТЕКСТ (для TF-IDF) ---\n",
      "статья рассматриваться военный политический деятельность фрунзе вопрос военный строительство советский государство идея взгляд реформирование преобразование вооружённый сила реализовать трудовой деятельность также значение военный теоретический наследие военный политический теория практика современный россия\n"
     ]
    }
   ],
   "source": [
    "example_idx = 42\n",
    "print(\"--- ИСХОДНЫЙ ТЕКСТ (для LLM, эмбеддингов, YAKE) ---\")\n",
    "print(df_cleaned.loc[example_idx, 'abstract'])\n",
    "print(\"\\n\" + \"=\"*50 + \"\\n\")\n",
    "print(\"--- ЛЕММАТИЗИРОВАННЫЙ ТЕКСТ (для TF-IDF) ---\")\n",
    "print(df_cleaned.loc[example_idx, 'lemmatized_abstract'])"
   ]
  },
  {
   "cell_type": "markdown",
   "id": "c92e7b7d",
   "metadata": {},
   "source": [
    "Мы подготовили данные для всех последующих задач. В датафрейме `df_cleaned` теперь содержатся:\n",
    "\n",
    "1.  **`abstract`**: Оригинальный, но очищенный от мусора текст. **Будет использоваться для:**\n",
    "     *   Извлечения ключевых слов с помощью **LLM**.\n",
    "     *   Извлечения ключевых слов с помощью **YAKE/RAKE**.\n",
    "     *   Построения **векторных представлений (эмбеддингов)** для семантического поиска.\n",
    " \n",
    " 2.  **`lemmatized_abstract`**: Полностью нормализованный текст. **Будет использоваться для:**\n",
    "     *   Извлечения ключевых слов с помощью **TF-IDF**.\n",
    "     *   Построения **векторного пространства TF-IDF** для поиска.\n",
    " \n",
    " 3.  **`keywords`**: Исходные ключевые слова"
   ]
  }
 ],
 "metadata": {
  "kernelspec": {
   "display_name": "tech-task-dfs",
   "language": "python",
   "name": "python3"
  },
  "language_info": {
   "codemirror_mode": {
    "name": "ipython",
    "version": 3
   },
   "file_extension": ".py",
   "mimetype": "text/x-python",
   "name": "python",
   "nbconvert_exporter": "python",
   "pygments_lexer": "ipython3",
   "version": "3.11.13"
  }
 },
 "nbformat": 4,
 "nbformat_minor": 5
}
